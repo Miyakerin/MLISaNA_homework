{
 "cells": [
  {
   "cell_type": "code",
   "execution_count": 1,
   "id": "011193a5-55e2-49c7-bd37-61dee02cdb40",
   "metadata": {},
   "outputs": [
    {
     "name": "stderr",
     "output_type": "stream",
     "text": [
      "[nltk_data] Downloading collection 'popular'\n",
      "[nltk_data]    | \n",
      "[nltk_data]    | Downloading package cmudict to\n",
      "[nltk_data]    |     C:\\Users\\user\\AppData\\Roaming\\nltk_data...\n",
      "[nltk_data]    |   Package cmudict is already up-to-date!\n",
      "[nltk_data]    | Downloading package gazetteers to\n",
      "[nltk_data]    |     C:\\Users\\user\\AppData\\Roaming\\nltk_data...\n",
      "[nltk_data]    |   Package gazetteers is already up-to-date!\n",
      "[nltk_data]    | Downloading package genesis to\n",
      "[nltk_data]    |     C:\\Users\\user\\AppData\\Roaming\\nltk_data...\n",
      "[nltk_data]    |   Package genesis is already up-to-date!\n",
      "[nltk_data]    | Downloading package gutenberg to\n",
      "[nltk_data]    |     C:\\Users\\user\\AppData\\Roaming\\nltk_data...\n",
      "[nltk_data]    |   Package gutenberg is already up-to-date!\n",
      "[nltk_data]    | Downloading package inaugural to\n",
      "[nltk_data]    |     C:\\Users\\user\\AppData\\Roaming\\nltk_data...\n",
      "[nltk_data]    |   Package inaugural is already up-to-date!\n",
      "[nltk_data]    | Downloading package movie_reviews to\n",
      "[nltk_data]    |     C:\\Users\\user\\AppData\\Roaming\\nltk_data...\n",
      "[nltk_data]    |   Package movie_reviews is already up-to-date!\n",
      "[nltk_data]    | Downloading package names to\n",
      "[nltk_data]    |     C:\\Users\\user\\AppData\\Roaming\\nltk_data...\n",
      "[nltk_data]    |   Package names is already up-to-date!\n",
      "[nltk_data]    | Downloading package shakespeare to\n",
      "[nltk_data]    |     C:\\Users\\user\\AppData\\Roaming\\nltk_data...\n",
      "[nltk_data]    |   Package shakespeare is already up-to-date!\n",
      "[nltk_data]    | Downloading package stopwords to\n",
      "[nltk_data]    |     C:\\Users\\user\\AppData\\Roaming\\nltk_data...\n",
      "[nltk_data]    |   Package stopwords is already up-to-date!\n",
      "[nltk_data]    | Downloading package treebank to\n",
      "[nltk_data]    |     C:\\Users\\user\\AppData\\Roaming\\nltk_data...\n",
      "[nltk_data]    |   Package treebank is already up-to-date!\n",
      "[nltk_data]    | Downloading package twitter_samples to\n",
      "[nltk_data]    |     C:\\Users\\user\\AppData\\Roaming\\nltk_data...\n",
      "[nltk_data]    |   Package twitter_samples is already up-to-date!\n",
      "[nltk_data]    | Downloading package omw to\n",
      "[nltk_data]    |     C:\\Users\\user\\AppData\\Roaming\\nltk_data...\n",
      "[nltk_data]    |   Package omw is already up-to-date!\n",
      "[nltk_data]    | Downloading package omw-1.4 to\n",
      "[nltk_data]    |     C:\\Users\\user\\AppData\\Roaming\\nltk_data...\n",
      "[nltk_data]    |   Package omw-1.4 is already up-to-date!\n",
      "[nltk_data]    | Downloading package wordnet to\n",
      "[nltk_data]    |     C:\\Users\\user\\AppData\\Roaming\\nltk_data...\n",
      "[nltk_data]    |   Package wordnet is already up-to-date!\n",
      "[nltk_data]    | Downloading package wordnet2021 to\n",
      "[nltk_data]    |     C:\\Users\\user\\AppData\\Roaming\\nltk_data...\n",
      "[nltk_data]    |   Package wordnet2021 is already up-to-date!\n",
      "[nltk_data]    | Downloading package wordnet31 to\n",
      "[nltk_data]    |     C:\\Users\\user\\AppData\\Roaming\\nltk_data...\n",
      "[nltk_data]    |   Package wordnet31 is already up-to-date!\n",
      "[nltk_data]    | Downloading package wordnet_ic to\n",
      "[nltk_data]    |     C:\\Users\\user\\AppData\\Roaming\\nltk_data...\n",
      "[nltk_data]    |   Package wordnet_ic is already up-to-date!\n",
      "[nltk_data]    | Downloading package words to\n",
      "[nltk_data]    |     C:\\Users\\user\\AppData\\Roaming\\nltk_data...\n",
      "[nltk_data]    |   Package words is already up-to-date!\n",
      "[nltk_data]    | Downloading package maxent_ne_chunker to\n",
      "[nltk_data]    |     C:\\Users\\user\\AppData\\Roaming\\nltk_data...\n",
      "[nltk_data]    |   Package maxent_ne_chunker is already up-to-date!\n",
      "[nltk_data]    | Downloading package punkt to\n",
      "[nltk_data]    |     C:\\Users\\user\\AppData\\Roaming\\nltk_data...\n",
      "[nltk_data]    |   Package punkt is already up-to-date!\n",
      "[nltk_data]    | Downloading package snowball_data to\n",
      "[nltk_data]    |     C:\\Users\\user\\AppData\\Roaming\\nltk_data...\n",
      "[nltk_data]    |   Package snowball_data is already up-to-date!\n",
      "[nltk_data]    | Downloading package averaged_perceptron_tagger to\n",
      "[nltk_data]    |     C:\\Users\\user\\AppData\\Roaming\\nltk_data...\n",
      "[nltk_data]    |   Package averaged_perceptron_tagger is already up-\n",
      "[nltk_data]    |       to-date!\n",
      "[nltk_data]    | \n",
      "[nltk_data]  Done downloading collection popular\n"
     ]
    }
   ],
   "source": [
    "from bs4 import BeautifulSoup\n",
    "import requests\n",
    "import re\n",
    "import json\n",
    "from transformers import pipeline\n",
    "import pandas as pd\n",
    "import torch\n",
    "import os\n",
    "from tqdm.notebook import tqdm\n",
    "import seaborn as sns\n",
    "import networkx as nx\n",
    "import plotly.graph_objects as go\n",
    "import torch_geometric\n",
    "import torch\n",
    "from torch.nn import Linear\n",
    "from torch_geometric.nn import GCNConv\n",
    "from torch_geometric.utils import to_dense_adj\n",
    "from matplotlib import animation\n",
    "from torch_geometric.utils import to_networkx\n",
    "import numpy as np\n",
    "import nltk\n",
    "from nltk.stem.snowball import SnowballStemmer \n",
    "nltk.download('popular')\n",
    "from nltk.tokenize import wordpunct_tokenize"
   ]
  },
  {
   "cell_type": "code",
   "execution_count": 2,
   "id": "fb7a543d-984c-4456-b6fa-1adf2068cc1a",
   "metadata": {},
   "outputs": [],
   "source": [
    "def get_links_from_html_soup(html_soup):\n",
    "    p_tags = html_soup.find('div', {'id': 'mw-content-text'}).find('div', class_='mw-content-ltr mw-parser-output').findAll(\n",
    "        'p')\n",
    "\n",
    "    links = []\n",
    "    for p_tag in p_tags:\n",
    "        for a_tag in p_tag.findAll('a'):\n",
    "            link = a_tag.get('href')\n",
    "            if link and re.match(r'/wiki/', link):\n",
    "                link = 'https://ru.wikipedia.org' + link\n",
    "                links.append(link)\n",
    "\n",
    "    return links"
   ]
  },
  {
   "cell_type": "code",
   "execution_count": 3,
   "id": "7c6e462e-195b-46d1-a971-42ae1d834852",
   "metadata": {},
   "outputs": [],
   "source": [
    "def get_html_soup_from_link(link):\n",
    "    while True:\n",
    "        response = requests.get(link)\n",
    "        if response.status_code == 200:\n",
    "            break\n",
    "        else:\n",
    "            print(f'unsuccesfull request at - ', link, ' with code = ', response.status_code)\n",
    "            break\n",
    "    soup = BeautifulSoup(response.text, 'html.parser')\n",
    "    return soup"
   ]
  },
  {
   "cell_type": "code",
   "execution_count": 4,
   "id": "fe9f6d63-7dbd-4604-af3a-d3e2397b7abc",
   "metadata": {},
   "outputs": [],
   "source": [
    "def recursive_parse(start_link, cur_depth, max_depth, link_map, exceed=False):\n",
    "    if cur_depth >= max_depth:\n",
    "        return link_map\n",
    "\n",
    "    html_soup = get_html_soup_from_link(start_link)\n",
    "    links = get_links_from_html_soup(html_soup)\n",
    "    \n",
    "    if link_map.get(start_link):\n",
    "        link_map[start_link].extend(links)\n",
    "    else:\n",
    "        link_map[start_link] = links\n",
    "\n",
    "    link_map[start_link] = list(set(link_map[start_link]))\n",
    "\n",
    "    if exceed and len(list(link_map.keys())) > exceed:\n",
    "        return link_map\n",
    "\n",
    "    for link in links:\n",
    "        recursive_parse(link, cur_depth+1, max_depth, link_map, exceed)\n",
    "        \n",
    "    return link_map"
   ]
  },
  {
   "cell_type": "code",
   "execution_count": 5,
   "id": "de63e40f-e000-4d0e-9b73-8573a510f0e3",
   "metadata": {},
   "outputs": [],
   "source": [
    "if os.path.isfile('links.json'):\n",
    "    with open('links.json') as file:\n",
    "        link_map = json.load(file)\n",
    "else:    \n",
    "    link_map = {}\n",
    "    link_map = recursive_parse('https://ru.wikipedia.org/wiki/%D0%92%D0%B8%D0%B4%D0%B5%D0%BE%D0%B8%D0%B3%D1%80%D0%B0', 0, 3, link_map)\n",
    "    with open('links.json', 'w') as file:\n",
    "        json.dump(link_map, file)"
   ]
  },
  {
   "cell_type": "code",
   "execution_count": 6,
   "id": "22a05c0b-88e9-4f7d-b63e-ee843eaef6ff",
   "metadata": {},
   "outputs": [
    {
     "name": "stdout",
     "output_type": "stream",
     "text": [
      "30257\n"
     ]
    }
   ],
   "source": [
    "all_links = []\n",
    "for val in list(link_map.values()):\n",
    "    all_links.extend(val)\n",
    "for key in list(link_map.keys()):\n",
    "    all_links.append(key)\n",
    "all_links = list(set(all_links))\n",
    "print(len(all_links))"
   ]
  },
  {
   "cell_type": "markdown",
   "id": "c9a773f5-30b9-4a10-a3fc-a5afdadebd57",
   "metadata": {},
   "source": [
    "# Получение текста и заголовков"
   ]
  },
  {
   "cell_type": "code",
   "execution_count": 7,
   "id": "3aa1bb07-7091-4d42-a8e9-ce66485e21e3",
   "metadata": {},
   "outputs": [],
   "source": [
    "def create_wiki_df(links, stop):\n",
    "    df = pd.DataFrame(columns = ['link', 'header', 'text', 'category'])\n",
    "    i = 0\n",
    "    for link in links:\n",
    "        try:\n",
    "            soup = get_html_soup_from_link(link)\n",
    "            paras = []\n",
    "            for p in soup.findAll('p'):\n",
    "                paras.append(str(p.text))\n",
    "            heads = []\n",
    "            for h in soup.findAll('span', attrs={'mw-headline'}):\n",
    "                heads.append(str(h.text))\n",
    "            text = [val for pair in zip(paras, heads) for val in pair]\n",
    "            text = ' '.join(text)\n",
    "            \n",
    "            text = re.sub(r\"\\[.*?\\]+\", '', text)\n",
    "            text = text.replace('\\n', '')[:-11]\n",
    "            text = text.replace(u'\\xad', '')\n",
    "            text = text.replace(u'\\xa0', ' ')\n",
    "    \n",
    "            header = soup.find('span', class_='mw-page-title-main')\n",
    "            if header:\n",
    "                header = header.text\n",
    "            elif soup.find('h1', attrs = {'id': 'firstHeading', 'class': 'firstHeading mw-first-heading'}).find('i'):\n",
    "                header = soup.find('h1', attrs = {'id': 'firstHeading', 'class': 'firstHeading mw-first-heading'}).find('i').text\n",
    "            else:\n",
    "                header = soup.find('h1', attrs = {'id': 'firstHeading', 'class': 'firstHeading mw-first-heading'}).text\n",
    "\n",
    "            cat = soup.find('div', {'id': 'mw-normal-catlinks'}).find('ul').find('li').text\n",
    "    \n",
    "            df.loc[len(df)] = [link, header, text, cat]\n",
    "            i+=1\n",
    "            print(f'done {round(max(i/stop, i/len(links))*100, 2)}%')\n",
    "            if i == stop:\n",
    "                break\n",
    "        except Exception as e:\n",
    "            print('error at ', link)\n",
    "            print(e)\n",
    "    return df"
   ]
  },
  {
   "cell_type": "code",
   "execution_count": 8,
   "id": "1479f860-514f-4342-b827-04bfb18474e3",
   "metadata": {},
   "outputs": [
    {
     "data": {
      "text/html": [
       "<div>\n",
       "<style scoped>\n",
       "    .dataframe tbody tr th:only-of-type {\n",
       "        vertical-align: middle;\n",
       "    }\n",
       "\n",
       "    .dataframe tbody tr th {\n",
       "        vertical-align: top;\n",
       "    }\n",
       "\n",
       "    .dataframe thead th {\n",
       "        text-align: right;\n",
       "    }\n",
       "</style>\n",
       "<table border=\"1\" class=\"dataframe\">\n",
       "  <thead>\n",
       "    <tr style=\"text-align: right;\">\n",
       "      <th></th>\n",
       "      <th>link</th>\n",
       "      <th>header</th>\n",
       "      <th>text</th>\n",
       "      <th>category</th>\n",
       "    </tr>\n",
       "  </thead>\n",
       "  <tbody>\n",
       "    <tr>\n",
       "      <th>1</th>\n",
       "      <td>https://ru.wikipedia.org/wiki/G7_Teams</td>\n",
       "      <td>G7 Teams</td>\n",
       "      <td>G7 Teams — международная федерация, созданная ...</td>\n",
       "      <td>Компании по алфавиту</td>\n",
       "    </tr>\n",
       "    <tr>\n",
       "      <th>19</th>\n",
       "      <td>https://ru.wikipedia.org/wiki/Atari_Games</td>\n",
       "      <td>Atari Games</td>\n",
       "      <td>Warner Communications (1984–1985) История Namc...</td>\n",
       "      <td>Компании по алфавиту</td>\n",
       "    </tr>\n",
       "  </tbody>\n",
       "</table>\n",
       "</div>"
      ],
      "text/plain": [
       "                                         link       header  \\\n",
       "1      https://ru.wikipedia.org/wiki/G7_Teams     G7 Teams   \n",
       "19  https://ru.wikipedia.org/wiki/Atari_Games  Atari Games   \n",
       "\n",
       "                                                 text              category  \n",
       "1   G7 Teams — международная федерация, созданная ...  Компании по алфавиту  \n",
       "19  Warner Communications (1984–1985) История Namc...  Компании по алфавиту  "
      ]
     },
     "execution_count": 8,
     "metadata": {},
     "output_type": "execute_result"
    }
   ],
   "source": [
    "if os.path.isfile('wiki.csv'):\n",
    "    df = pd.read_csv('wiki.csv', index_col='Unnamed: 0')\n",
    "else:    \n",
    "    df = create_wiki_df(all_links, 20000)\n",
    "    df.to_csv('wiki.csv')\n",
    "df.dropna(inplace=True)\n",
    "df.drop_duplicates(subset=['header'], inplace=True)\n",
    "df = df.loc[df['category'].isin(df['category'].value_counts()[:10].index.to_list())]\n",
    "df.head(2)"
   ]
  },
  {
   "cell_type": "markdown",
   "id": "b7323519-5aeb-45cd-be4d-ccfb72195433",
   "metadata": {},
   "source": [
    "# Обработка текста"
   ]
  },
  {
   "cell_type": "code",
   "execution_count": 9,
   "id": "5a99e72f-9342-482d-999c-141d862e2ff3",
   "metadata": {},
   "outputs": [],
   "source": [
    "class Dataset(torch.utils.data.Dataset):\n",
    "    def __init__(self, df):\n",
    "        self.df = df\n",
    "\n",
    "    def __len__(self):\n",
    "        return len(self.df)\n",
    "\n",
    "    def __getitem__(self, item):\n",
    "        return self.df.iloc[item]['text']"
   ]
  },
  {
   "cell_type": "code",
   "execution_count": 10,
   "id": "a939d4ca-bb2a-4f50-8b81-7e44c082c780",
   "metadata": {},
   "outputs": [],
   "source": [
    "def summarize(df):\n",
    "    col = []\n",
    "    device = 'cuda' if torch.cuda.is_available() else 'cpu'\n",
    "    dataset = Dataset(df)\n",
    "    torch.cuda.empty_cache() if torch.cuda.is_available() else None\n",
    "    summarizer = pipeline('summarization', model='IlyaGusev/rut5_base_headline_gen_telegram', device=device)\n",
    "    for out in tqdm(summarizer(dataset, max_length=50, batch_size=1), total=len(dataset)):\n",
    "        try:\n",
    "            for item in out:\n",
    "                col.append(item['summary_text'])\n",
    "        except Exception:\n",
    "            print('error')\n",
    "            for _ in range(6):\n",
    "                col.append('None')\n",
    "            torch.cuda.empty_cache()\n",
    "\n",
    "    df['summary'] = col\n",
    "    torch.cuda.empty_cache() if torch.cuda.is_available() else None\n",
    "    return df"
   ]
  },
  {
   "cell_type": "code",
   "execution_count": 11,
   "id": "194c1f05-b0a5-4ee8-93be-6d02a2ed427d",
   "metadata": {},
   "outputs": [
    {
     "name": "stdout",
     "output_type": "stream",
     "text": [
      "opening wiki_sum.csv\n"
     ]
    },
    {
     "data": {
      "text/html": [
       "<div>\n",
       "<style scoped>\n",
       "    .dataframe tbody tr th:only-of-type {\n",
       "        vertical-align: middle;\n",
       "    }\n",
       "\n",
       "    .dataframe tbody tr th {\n",
       "        vertical-align: top;\n",
       "    }\n",
       "\n",
       "    .dataframe thead th {\n",
       "        text-align: right;\n",
       "    }\n",
       "</style>\n",
       "<table border=\"1\" class=\"dataframe\">\n",
       "  <thead>\n",
       "    <tr style=\"text-align: right;\">\n",
       "      <th></th>\n",
       "      <th>link</th>\n",
       "      <th>header</th>\n",
       "      <th>text</th>\n",
       "      <th>category</th>\n",
       "      <th>summary</th>\n",
       "    </tr>\n",
       "  </thead>\n",
       "  <tbody>\n",
       "    <tr>\n",
       "      <th>1</th>\n",
       "      <td>https://ru.wikipedia.org/wiki/G7_Teams</td>\n",
       "      <td>G7 Teams</td>\n",
       "      <td>G7 Teams — международная федерация, созданная ...</td>\n",
       "      <td>Компании по алфавиту</td>\n",
       "      <td>G7 Teams — международная федерация, созданная ...</td>\n",
       "    </tr>\n",
       "    <tr>\n",
       "      <th>19</th>\n",
       "      <td>https://ru.wikipedia.org/wiki/Atari_Games</td>\n",
       "      <td>Atari Games</td>\n",
       "      <td>Warner Communications (1984–1985) История Namc...</td>\n",
       "      <td>Компании по алфавиту</td>\n",
       "      <td>История Namco, Namco, Time Warner Interactive ...</td>\n",
       "    </tr>\n",
       "  </tbody>\n",
       "</table>\n",
       "</div>"
      ],
      "text/plain": [
       "                                         link       header  \\\n",
       "1      https://ru.wikipedia.org/wiki/G7_Teams     G7 Teams   \n",
       "19  https://ru.wikipedia.org/wiki/Atari_Games  Atari Games   \n",
       "\n",
       "                                                 text              category  \\\n",
       "1   G7 Teams — международная федерация, созданная ...  Компании по алфавиту   \n",
       "19  Warner Communications (1984–1985) История Namc...  Компании по алфавиту   \n",
       "\n",
       "                                              summary  \n",
       "1   G7 Teams — международная федерация, созданная ...  \n",
       "19  История Namco, Namco, Time Warner Interactive ...  "
      ]
     },
     "execution_count": 11,
     "metadata": {},
     "output_type": "execute_result"
    }
   ],
   "source": [
    "if os.path.isfile('wiki_sum.csv'):\n",
    "    print('opening wiki_sum.csv')\n",
    "    df = pd.read_csv('wiki_sum.csv', index_col='Unnamed: 0')\n",
    "else:\n",
    "    print('creating wiki_sum.csv')\n",
    "    df = summarize(df)\n",
    "    df.to_csv('wiki_sum.csv')\n",
    "df.dropna(inplace=True)\n",
    "df.head(2)"
   ]
  },
  {
   "cell_type": "markdown",
   "id": "dac64fa2-b6f4-4bbd-85ab-ba48062bfe5c",
   "metadata": {},
   "source": [
    "# Создание базы знаний"
   ]
  },
  {
   "cell_type": "code",
   "execution_count": 12,
   "id": "31f3cc68-be97-48be-baea-b232a06f4fec",
   "metadata": {},
   "outputs": [],
   "source": [
    "G = nx.DiGraph()"
   ]
  },
  {
   "cell_type": "code",
   "execution_count": 13,
   "id": "e6f3f7a4-6720-484c-9046-c52dfd5bad97",
   "metadata": {},
   "outputs": [],
   "source": [
    "def create_nodes(df):\n",
    "    nodes = []\n",
    "    for i in range(len(df)):\n",
    "        nodes.append((df.iloc[i]['header'], {'summary': df.iloc[i]['summary'], 'link': df.iloc[i]['link'], 'text': df.iloc[i]['text'], 'category': df.iloc[i]['category']}))\n",
    "    return nodes"
   ]
  },
  {
   "cell_type": "code",
   "execution_count": 14,
   "id": "45845aba-2dc3-4b82-b846-0fe15efeb9c1",
   "metadata": {},
   "outputs": [],
   "source": [
    "def create_edges(link_map, df):\n",
    "    edges = []\n",
    "    existing_links = df['link'].to_list()\n",
    "    for key in list(link_map.keys()):\n",
    "        if key not in existing_links:\n",
    "            continue\n",
    "        for val in link_map.get(key):\n",
    "            if val not in existing_links:\n",
    "                continue\n",
    "            edges.append((df.loc[df['link'] == key]['header'].iloc[0], df.loc[df['link'] == val]['header'].iloc[0]))\n",
    "    return edges"
   ]
  },
  {
   "cell_type": "code",
   "execution_count": 15,
   "id": "adc1819d-ac30-48a3-b267-ffedbb967b57",
   "metadata": {},
   "outputs": [],
   "source": [
    "G.add_nodes_from(create_nodes(df))\n",
    "G.add_edges_from(create_edges(link_map, df))"
   ]
  },
  {
   "cell_type": "code",
   "execution_count": 16,
   "id": "c5f9262e-2426-4f7c-b0a9-bd5403757d35",
   "metadata": {},
   "outputs": [],
   "source": [
    "def create_name_to_long_dict(nodes):\n",
    "    return {nodes[i]: i for i in range(len(nodes))}"
   ]
  },
  {
   "cell_type": "code",
   "execution_count": 17,
   "id": "0684ccdc-8359-4745-bcec-e143e5effb4a",
   "metadata": {},
   "outputs": [],
   "source": [
    "def create_edge_index(nodes_dict, edges):\n",
    "    edge_index = [[], []]\n",
    "    for connection in edges:\n",
    "        edge_index[0].append(nodes_dict[connection[0]])\n",
    "        edge_index[1].append(nodes_dict[connection[1]])\n",
    "    return edge_index"
   ]
  },
  {
   "cell_type": "code",
   "execution_count": 18,
   "id": "8e965131-78ef-4a88-9dca-aab2ef0cfd83",
   "metadata": {},
   "outputs": [],
   "source": [
    "def create_y_data(G):\n",
    "    return [node[1]['category'] for node in G.nodes(data=True)]"
   ]
  },
  {
   "cell_type": "code",
   "execution_count": 19,
   "id": "db6065d2-3bc3-460e-ba02-ca993f8b6a3b",
   "metadata": {},
   "outputs": [],
   "source": [
    "def create_x_data(G):\n",
    "    return [node[1]['summary'] for node in G.nodes(data=True)]"
   ]
  },
  {
   "cell_type": "code",
   "execution_count": 20,
   "id": "3292dd9a-8be0-41a1-9198-8776a151d028",
   "metadata": {},
   "outputs": [],
   "source": [
    "def to_categorical(y):\n",
    "    y_dict = {}\n",
    "    i = 0\n",
    "    for cat in y:\n",
    "        if cat not in y_dict.keys():\n",
    "            y_dict[cat] = i\n",
    "            i+=1\n",
    "    y_new = []\n",
    "    for cat in y:\n",
    "        y_new.append(y_dict[cat])\n",
    "    return y_new, y_dict"
   ]
  },
  {
   "cell_type": "code",
   "execution_count": 21,
   "id": "22ff679b-eb56-46b7-b834-537f54e263ee",
   "metadata": {},
   "outputs": [],
   "source": [
    "def to_idx(x):\n",
    "    vocab = {'<UNK>': 0, '<PAD>': 1}\n",
    "    x_new = []\n",
    "    i = len(vocab)\n",
    "    max_len = 0\n",
    "    for sent in x:\n",
    "        if len(wordpunct_tokenize(sent)) > max_len:\n",
    "            max_len = len(wordpunct_tokenize(sent))\n",
    "        for token in wordpunct_tokenize(sent):\n",
    "            if not vocab.get(token):\n",
    "                vocab[token] = i\n",
    "                i += 1\n",
    "    for sent in x:\n",
    "        x_new.append([])\n",
    "        for i, token in enumerate(wordpunct_tokenize(sent), start=1):\n",
    "            x_new[-1].append(vocab.get(token, 0))\n",
    "        for _ in range(max_len-i):\n",
    "            x_new[-1].append(1)\n",
    "    x_new2 = torch.FloatTensor()\n",
    "    x_new2 = x_new2.new_empty(size=(len(x_new), max_len))\n",
    "    for i in range(len(x_new)):\n",
    "        x_new2[i] = torch.FloatTensor(x_new[i])\n",
    "    return x_new2, vocab"
   ]
  },
  {
   "cell_type": "code",
   "execution_count": 22,
   "id": "c673a8ce-6da9-4c8b-bd94-a5c8c588d5be",
   "metadata": {},
   "outputs": [],
   "source": [
    "def create_data_obj(G):\n",
    "    nodes_dict = create_name_to_long_dict(list(G.nodes))\n",
    "    edge_index = torch.LongTensor(create_edge_index(nodes_dict, list(G.edges)))\n",
    "    y, y_vocab = to_categorical(create_y_data(G))\n",
    "    y = torch.LongTensor(y)\n",
    "    x, x_vocab = to_idx(create_x_data(G))\n",
    "    data = torch_geometric.data.Data(x=x, edge_index=edge_index, y=y)\n",
    "    return data, x_vocab, y_vocab"
   ]
  },
  {
   "cell_type": "code",
   "execution_count": 23,
   "id": "cc6e286d-3772-4b7d-bdc9-dbc311c92d84",
   "metadata": {},
   "outputs": [],
   "source": [
    "class GCN(torch.nn.Module):\n",
    "    def __init__(self, num_features, num_classes):\n",
    "        super(GCN, self).__init__()\n",
    "        self.conv1 = GCNConv(num_features, 2 * num_features, cached=True) # cached only for transductive learning\n",
    "        self.conv2 = GCNConv(2 * num_features, num_features, cached=True) # cached only for transductive learning\n",
    "        self.fc = torch.nn.Linear(num_features, num_classes)\n",
    "    def forward(self, x, edge_index):\n",
    "        x = self.conv1(x, edge_index).relu()\n",
    "        x = self.conv2(x, edge_index).relu()\n",
    "        return self.fc(x)"
   ]
  },
  {
   "cell_type": "code",
   "execution_count": 24,
   "id": "7f6ebc7b-af4c-4dde-91ad-098225906f7f",
   "metadata": {},
   "outputs": [],
   "source": [
    "def accuracy(pred_y, y):\n",
    "    return (pred_y == y).sum() / len(y)"
   ]
  },
  {
   "cell_type": "code",
   "execution_count": 25,
   "id": "4d6f6524-6512-4e5d-866e-e9b09e7d844e",
   "metadata": {},
   "outputs": [],
   "source": [
    "class EarlyStopping():\n",
    "  def __init__(self, min_delta=0.001, tolerance=20):\n",
    "    self.tolerance = tolerance\n",
    "    self.min_delta = min_delta\n",
    "    self.counter = 0\n",
    "    self.flag = False\n",
    "    self.min_loss = 1000\n",
    "\n",
    "  def __call__(self, val_loss):\n",
    "    if (val_loss - self.min_loss) > self.min_delta:\n",
    "      self.counter += 1\n",
    "      print(f'\\ncounter = {self.counter}')\n",
    "      if self.counter >= self.tolerance:\n",
    "        self.flag = True\n",
    "    self.min_loss = val_loss if val_loss < self.min_loss else self.min_loss"
   ]
  },
  {
   "cell_type": "code",
   "execution_count": 26,
   "id": "69e77765-f087-4c45-a0d5-0be1cea5a1d2",
   "metadata": {},
   "outputs": [],
   "source": [
    "def train_one_epoch_gcc(model, optimizer, loss_func, x, y, train_pos_edge_index):\n",
    "    model.train()\n",
    "    optimizer.zero_grad()\n",
    "    y_pred = model.forward(x, train_pos_edge_index)\n",
    "    loss = loss_func.forward(y_pred, y)\n",
    "    loss.backward()\n",
    "    optimizer.step()\n",
    "    _, y_pred = torch.max(y_pred, 1)\n",
    "    return loss.item(), accuracy(y_pred, y)\n",
    "\n",
    "def val_one_epoch_gcc(model, loss_func, x, y, val_pos_edge_index):\n",
    "    model.eval()\n",
    "    y_pred = model.forward(x, val_pos_edge_index)\n",
    "    loss = loss_func.forward(y_pred, y)\n",
    "    _, y_pred = torch.max(y_pred, 1)\n",
    "    return loss.item(), accuracy(y_pred, y)"
   ]
  },
  {
   "cell_type": "code",
   "execution_count": 27,
   "id": "7f2f1faf-cb39-407e-8b54-e99ae7d6c96f",
   "metadata": {},
   "outputs": [],
   "source": [
    "def test(model, x, y, test_pos_edge_index, classes):\n",
    "    model.eval()\n",
    "    conf_matr = torch.zeros(len(classes), len(classes))\n",
    "    y_pred = model.forward(x, test_pos_edge_index)\n",
    "    _, preds = torch.max(y_pred, 1)\n",
    "    test_hits = torch.sum(preds.view(-1) == y.view(-1))\n",
    "    total = torch.numel(preds.view(-1))\n",
    "    for t,p in zip(y.view(-1), preds.view(-1)):\n",
    "        conf_matr[t.long(), p.long()] += 1\n",
    "    return conf_matr, test_hits/total\n",
    "\n",
    "def test_model_gcc(model, data, classes):\n",
    "    device = torch.device('cpu' if torch.cuda.is_available() else 'cpu')\n",
    "    model = model.to(device)\n",
    "    x = data.x.to(device)\n",
    "    y = data.y.to(device)\n",
    "    test_pos_edge_index = data.test_pos_edge_index.to(device)\n",
    "    return test(model, x, y, test_pos_edge_index, classes)"
   ]
  },
  {
   "cell_type": "code",
   "execution_count": 28,
   "id": "5dbd3bf7-bec4-4467-8b88-a041aa0acf22",
   "metadata": {},
   "outputs": [],
   "source": [
    "def train_n_epoch_gcc(model, optimizer, loss_func, data, max_epoch, min_delta, tolerance, verbose=True):\n",
    "    device = torch.device('cpu' if torch.cuda.is_available() else 'cpu')\n",
    "    x = data.x.to(device)\n",
    "    y = data.y.to(device)\n",
    "    model.to(device)\n",
    "    train_losses = []\n",
    "    val_losses = []\n",
    "    train_accs = []\n",
    "    val_accs = []\n",
    "    train_pos_edge_index = data.train_pos_edge_index.to(device)\n",
    "    val_pos_edge_index = data.val_pos_edge_index.to(device)\n",
    "    early_stopping = EarlyStopping(min_delta=min_delta, tolerance=tolerance)\n",
    "\n",
    "    for i in range(max_epoch):\n",
    "        train_metrics = train_one_epoch_gcc(model, optimizer, loss_func, x, y, train_pos_edge_index)\n",
    "        train_losses.append(train_metrics[0])\n",
    "        train_accs.append(train_metrics[1])\n",
    "\n",
    "        with torch.no_grad():\n",
    "            val_metrics = val_one_epoch_gcc(model, loss_func, x, y, val_pos_edge_index)\n",
    "            val_losses.append(val_metrics[0])\n",
    "            val_accs.append(val_metrics[1])\n",
    "\n",
    "        if verbose and i%1==0:\n",
    "            print(f'Epoch {i:>3} | train loss: {train_metrics[0]:.2f} | train acc: {train_metrics[1]*100:.2f}% | val loss: {val_metrics[0]:.2f} | val acc: {val_metrics[1]*100:.2f}%')\n",
    "\n",
    "        early_stopping(val_metrics[0])\n",
    "        if early_stopping.flag:\n",
    "            print(f'\\nearly stop at epoch №{i}')\n",
    "            break\n",
    "    return train_losses, train_accs, val_losses, val_accs"
   ]
  },
  {
   "cell_type": "code",
   "execution_count": 29,
   "id": "7d812cb8-1531-4450-9b71-5606aeec114e",
   "metadata": {},
   "outputs": [],
   "source": [
    "epochs = 100\n",
    "lr = 1e-3\n",
    "#dataset, x_vocab, y_vocab = create_data_obj(G)\n",
    "num_features = 5891\n",
    "num_classes = 3\n",
    "model = GCN(num_features, num_classes)\n",
    "criterion = torch.nn.CrossEntropyLoss()\n",
    "optimizer = torch.optim.Adam(\n",
    "    model.parameters(),\n",
    "    lr=lr,\n",
    ")\n",
    "min_delta = 5e-3\n",
    "tolerance = 10"
   ]
  },
  {
   "cell_type": "code",
   "execution_count": 30,
   "id": "ca22d4b9-764d-44b8-b250-19f3c19e2033",
   "metadata": {},
   "outputs": [
    {
     "data": {
      "text/plain": [
       "Data(x=[3108, 5891], edge_index=[2, 14968], y=[3108])"
      ]
     },
     "execution_count": 30,
     "metadata": {},
     "output_type": "execute_result"
    }
   ],
   "source": [
    "import pickle as pkl\n",
    "with open('data.pkl', 'rb') as f:\n",
    "    data = pkl.load(f)\n",
    "data['train_mask'] = data['test_mask'] = None\n",
    "data"
   ]
  },
  {
   "cell_type": "code",
   "execution_count": 31,
   "id": "518959ca-297e-4324-8200-8ae647ee210e",
   "metadata": {},
   "outputs": [
    {
     "name": "stderr",
     "output_type": "stream",
     "text": [
      "C:\\Users\\user\\AppData\\Local\\Programs\\Python\\Python312\\Lib\\site-packages\\torch_geometric\\deprecation.py:26: UserWarning: 'train_test_split_edges' is deprecated, use 'transforms.RandomLinkSplit' instead\n",
      "  warnings.warn(out)\n"
     ]
    },
    {
     "data": {
      "text/plain": [
       "Data(x=[3108, 5891], y=[3108], val_pos_edge_index=[2, 748], test_pos_edge_index=[2, 1496], train_pos_edge_index=[2, 10480], train_neg_adj_mask=[3108, 3108], val_neg_edge_index=[2, 748], test_neg_edge_index=[2, 1496])"
      ]
     },
     "execution_count": 31,
     "metadata": {},
     "output_type": "execute_result"
    }
   ],
   "source": [
    "data = torch_geometric.utils.train_test_split_edges(data, test_ratio=0.2, val_ratio=0.1)\n",
    "data"
   ]
  },
  {
   "cell_type": "code",
   "execution_count": 32,
   "id": "d550bc41-eb7a-4cf4-a161-932b0bc39f64",
   "metadata": {},
   "outputs": [
    {
     "data": {
      "text/plain": [
       "Data(x=[3108, 5891], y=[3108], val_pos_edge_index=[2, 748], test_pos_edge_index=[2, 1496], train_pos_edge_index=[2, 10480])"
      ]
     },
     "execution_count": 32,
     "metadata": {},
     "output_type": "execute_result"
    }
   ],
   "source": [
    "data['train_neg_adj_mask'] = data['val_neg_edge_index'] = data['test_neg_edge_index'] = None\n",
    "data"
   ]
  },
  {
   "cell_type": "code",
   "execution_count": 33,
   "id": "cee94749-1c3a-44fd-9f1c-e92c5b652fd2",
   "metadata": {},
   "outputs": [
    {
     "name": "stdout",
     "output_type": "stream",
     "text": [
      "Epoch   0 | train loss: 1.10 | train acc: 34.94% | val loss: 1.09 | val acc: 35.30%\n",
      "Epoch   1 | train loss: 1.09 | train acc: 35.30% | val loss: 1.03 | val acc: 64.67%\n",
      "Epoch   2 | train loss: 1.03 | train acc: 64.67% | val loss: 0.93 | val acc: 72.97%\n",
      "Epoch   3 | train loss: 0.93 | train acc: 72.97% | val loss: 0.77 | val acc: 82.66%\n",
      "Epoch   4 | train loss: 0.77 | train acc: 82.66% | val loss: 0.62 | val acc: 82.27%\n",
      "Epoch   5 | train loss: 0.62 | train acc: 82.27% | val loss: 0.50 | val acc: 83.14%\n",
      "Epoch   6 | train loss: 0.50 | train acc: 83.14% | val loss: 0.42 | val acc: 85.30%\n",
      "Epoch   7 | train loss: 0.42 | train acc: 85.30% | val loss: 0.37 | val acc: 85.81%\n",
      "Epoch   8 | train loss: 0.37 | train acc: 85.81% | val loss: 0.33 | val acc: 86.97%\n",
      "Epoch   9 | train loss: 0.33 | train acc: 86.97% | val loss: 0.31 | val acc: 87.68%\n",
      "Epoch  10 | train loss: 0.31 | train acc: 87.68% | val loss: 0.29 | val acc: 88.29%\n",
      "Epoch  11 | train loss: 0.29 | train acc: 88.29% | val loss: 0.27 | val acc: 88.58%\n",
      "Epoch  12 | train loss: 0.27 | train acc: 88.58% | val loss: 0.25 | val acc: 88.87%\n"
     ]
    },
    {
     "ename": "KeyboardInterrupt",
     "evalue": "",
     "output_type": "error",
     "traceback": [
      "\u001b[1;31m---------------------------------------------------------------------------\u001b[0m",
      "\u001b[1;31mKeyboardInterrupt\u001b[0m                         Traceback (most recent call last)",
      "Cell \u001b[1;32mIn[33], line 1\u001b[0m\n\u001b[1;32m----> 1\u001b[0m train_losses, train_accs, val_losses, val_accs \u001b[38;5;241m=\u001b[39m \u001b[43mtrain_n_epoch_gcc\u001b[49m\u001b[43m(\u001b[49m\u001b[43mmodel\u001b[49m\u001b[43m,\u001b[49m\u001b[43m \u001b[49m\u001b[43moptimizer\u001b[49m\u001b[43m,\u001b[49m\u001b[43m \u001b[49m\u001b[43mcriterion\u001b[49m\u001b[43m,\u001b[49m\u001b[43m \u001b[49m\u001b[43mdata\u001b[49m\u001b[43m,\u001b[49m\u001b[43m \u001b[49m\u001b[43mepochs\u001b[49m\u001b[43m,\u001b[49m\u001b[43m \u001b[49m\u001b[43mmin_delta\u001b[49m\u001b[43m,\u001b[49m\u001b[43m \u001b[49m\u001b[43mtolerance\u001b[49m\u001b[43m)\u001b[49m\n",
      "Cell \u001b[1;32mIn[28], line 15\u001b[0m, in \u001b[0;36mtrain_n_epoch_gcc\u001b[1;34m(model, optimizer, loss_func, data, max_epoch, min_delta, tolerance, verbose)\u001b[0m\n\u001b[0;32m     12\u001b[0m early_stopping \u001b[38;5;241m=\u001b[39m EarlyStopping(min_delta\u001b[38;5;241m=\u001b[39mmin_delta, tolerance\u001b[38;5;241m=\u001b[39mtolerance)\n\u001b[0;32m     14\u001b[0m \u001b[38;5;28;01mfor\u001b[39;00m i \u001b[38;5;129;01min\u001b[39;00m \u001b[38;5;28mrange\u001b[39m(max_epoch):\n\u001b[1;32m---> 15\u001b[0m     train_metrics \u001b[38;5;241m=\u001b[39m \u001b[43mtrain_one_epoch_gcc\u001b[49m\u001b[43m(\u001b[49m\u001b[43mmodel\u001b[49m\u001b[43m,\u001b[49m\u001b[43m \u001b[49m\u001b[43moptimizer\u001b[49m\u001b[43m,\u001b[49m\u001b[43m \u001b[49m\u001b[43mloss_func\u001b[49m\u001b[43m,\u001b[49m\u001b[43m \u001b[49m\u001b[43mx\u001b[49m\u001b[43m,\u001b[49m\u001b[43m \u001b[49m\u001b[43my\u001b[49m\u001b[43m,\u001b[49m\u001b[43m \u001b[49m\u001b[43mtrain_pos_edge_index\u001b[49m\u001b[43m)\u001b[49m\n\u001b[0;32m     16\u001b[0m     train_losses\u001b[38;5;241m.\u001b[39mappend(train_metrics[\u001b[38;5;241m0\u001b[39m])\n\u001b[0;32m     17\u001b[0m     train_accs\u001b[38;5;241m.\u001b[39mappend(train_metrics[\u001b[38;5;241m1\u001b[39m])\n",
      "Cell \u001b[1;32mIn[26], line 4\u001b[0m, in \u001b[0;36mtrain_one_epoch_gcc\u001b[1;34m(model, optimizer, loss_func, x, y, train_pos_edge_index)\u001b[0m\n\u001b[0;32m      2\u001b[0m model\u001b[38;5;241m.\u001b[39mtrain()\n\u001b[0;32m      3\u001b[0m optimizer\u001b[38;5;241m.\u001b[39mzero_grad()\n\u001b[1;32m----> 4\u001b[0m y_pred \u001b[38;5;241m=\u001b[39m \u001b[43mmodel\u001b[49m\u001b[38;5;241;43m.\u001b[39;49m\u001b[43mforward\u001b[49m\u001b[43m(\u001b[49m\u001b[43mx\u001b[49m\u001b[43m,\u001b[49m\u001b[43m \u001b[49m\u001b[43mtrain_pos_edge_index\u001b[49m\u001b[43m)\u001b[49m\n\u001b[0;32m      5\u001b[0m loss \u001b[38;5;241m=\u001b[39m loss_func\u001b[38;5;241m.\u001b[39mforward(y_pred, y)\n\u001b[0;32m      6\u001b[0m loss\u001b[38;5;241m.\u001b[39mbackward()\n",
      "Cell \u001b[1;32mIn[23], line 9\u001b[0m, in \u001b[0;36mGCN.forward\u001b[1;34m(self, x, edge_index)\u001b[0m\n\u001b[0;32m      7\u001b[0m \u001b[38;5;28;01mdef\u001b[39;00m \u001b[38;5;21mforward\u001b[39m(\u001b[38;5;28mself\u001b[39m, x, edge_index):\n\u001b[0;32m      8\u001b[0m     x \u001b[38;5;241m=\u001b[39m \u001b[38;5;28mself\u001b[39m\u001b[38;5;241m.\u001b[39mconv1(x, edge_index)\u001b[38;5;241m.\u001b[39mrelu()\n\u001b[1;32m----> 9\u001b[0m     x \u001b[38;5;241m=\u001b[39m \u001b[38;5;28;43mself\u001b[39;49m\u001b[38;5;241;43m.\u001b[39;49m\u001b[43mconv2\u001b[49m\u001b[43m(\u001b[49m\u001b[43mx\u001b[49m\u001b[43m,\u001b[49m\u001b[43m \u001b[49m\u001b[43medge_index\u001b[49m\u001b[43m)\u001b[49m\u001b[38;5;241m.\u001b[39mrelu()\n\u001b[0;32m     10\u001b[0m     \u001b[38;5;28;01mreturn\u001b[39;00m \u001b[38;5;28mself\u001b[39m\u001b[38;5;241m.\u001b[39mfc(x)\n",
      "File \u001b[1;32m~\\AppData\\Local\\Programs\\Python\\Python312\\Lib\\site-packages\\torch\\nn\\modules\\module.py:1532\u001b[0m, in \u001b[0;36mModule._wrapped_call_impl\u001b[1;34m(self, *args, **kwargs)\u001b[0m\n\u001b[0;32m   1530\u001b[0m     \u001b[38;5;28;01mreturn\u001b[39;00m \u001b[38;5;28mself\u001b[39m\u001b[38;5;241m.\u001b[39m_compiled_call_impl(\u001b[38;5;241m*\u001b[39margs, \u001b[38;5;241m*\u001b[39m\u001b[38;5;241m*\u001b[39mkwargs)  \u001b[38;5;66;03m# type: ignore[misc]\u001b[39;00m\n\u001b[0;32m   1531\u001b[0m \u001b[38;5;28;01melse\u001b[39;00m:\n\u001b[1;32m-> 1532\u001b[0m     \u001b[38;5;28;01mreturn\u001b[39;00m \u001b[38;5;28;43mself\u001b[39;49m\u001b[38;5;241;43m.\u001b[39;49m\u001b[43m_call_impl\u001b[49m\u001b[43m(\u001b[49m\u001b[38;5;241;43m*\u001b[39;49m\u001b[43margs\u001b[49m\u001b[43m,\u001b[49m\u001b[43m \u001b[49m\u001b[38;5;241;43m*\u001b[39;49m\u001b[38;5;241;43m*\u001b[39;49m\u001b[43mkwargs\u001b[49m\u001b[43m)\u001b[49m\n",
      "File \u001b[1;32m~\\AppData\\Local\\Programs\\Python\\Python312\\Lib\\site-packages\\torch\\nn\\modules\\module.py:1541\u001b[0m, in \u001b[0;36mModule._call_impl\u001b[1;34m(self, *args, **kwargs)\u001b[0m\n\u001b[0;32m   1536\u001b[0m \u001b[38;5;66;03m# If we don't have any hooks, we want to skip the rest of the logic in\u001b[39;00m\n\u001b[0;32m   1537\u001b[0m \u001b[38;5;66;03m# this function, and just call forward.\u001b[39;00m\n\u001b[0;32m   1538\u001b[0m \u001b[38;5;28;01mif\u001b[39;00m \u001b[38;5;129;01mnot\u001b[39;00m (\u001b[38;5;28mself\u001b[39m\u001b[38;5;241m.\u001b[39m_backward_hooks \u001b[38;5;129;01mor\u001b[39;00m \u001b[38;5;28mself\u001b[39m\u001b[38;5;241m.\u001b[39m_backward_pre_hooks \u001b[38;5;129;01mor\u001b[39;00m \u001b[38;5;28mself\u001b[39m\u001b[38;5;241m.\u001b[39m_forward_hooks \u001b[38;5;129;01mor\u001b[39;00m \u001b[38;5;28mself\u001b[39m\u001b[38;5;241m.\u001b[39m_forward_pre_hooks\n\u001b[0;32m   1539\u001b[0m         \u001b[38;5;129;01mor\u001b[39;00m _global_backward_pre_hooks \u001b[38;5;129;01mor\u001b[39;00m _global_backward_hooks\n\u001b[0;32m   1540\u001b[0m         \u001b[38;5;129;01mor\u001b[39;00m _global_forward_hooks \u001b[38;5;129;01mor\u001b[39;00m _global_forward_pre_hooks):\n\u001b[1;32m-> 1541\u001b[0m     \u001b[38;5;28;01mreturn\u001b[39;00m \u001b[43mforward_call\u001b[49m\u001b[43m(\u001b[49m\u001b[38;5;241;43m*\u001b[39;49m\u001b[43margs\u001b[49m\u001b[43m,\u001b[49m\u001b[43m \u001b[49m\u001b[38;5;241;43m*\u001b[39;49m\u001b[38;5;241;43m*\u001b[39;49m\u001b[43mkwargs\u001b[49m\u001b[43m)\u001b[49m\n\u001b[0;32m   1543\u001b[0m \u001b[38;5;28;01mtry\u001b[39;00m:\n\u001b[0;32m   1544\u001b[0m     result \u001b[38;5;241m=\u001b[39m \u001b[38;5;28;01mNone\u001b[39;00m\n",
      "File \u001b[1;32m~\\AppData\\Local\\Programs\\Python\\Python312\\Lib\\site-packages\\torch_geometric\\nn\\conv\\gcn_conv.py:260\u001b[0m, in \u001b[0;36mGCNConv.forward\u001b[1;34m(self, x, edge_index, edge_weight)\u001b[0m\n\u001b[0;32m    257\u001b[0m         \u001b[38;5;28;01melse\u001b[39;00m:\n\u001b[0;32m    258\u001b[0m             edge_index \u001b[38;5;241m=\u001b[39m cache\n\u001b[1;32m--> 260\u001b[0m x \u001b[38;5;241m=\u001b[39m \u001b[38;5;28;43mself\u001b[39;49m\u001b[38;5;241;43m.\u001b[39;49m\u001b[43mlin\u001b[49m\u001b[43m(\u001b[49m\u001b[43mx\u001b[49m\u001b[43m)\u001b[49m\n\u001b[0;32m    262\u001b[0m \u001b[38;5;66;03m# propagate_type: (x: Tensor, edge_weight: OptTensor)\u001b[39;00m\n\u001b[0;32m    263\u001b[0m out \u001b[38;5;241m=\u001b[39m \u001b[38;5;28mself\u001b[39m\u001b[38;5;241m.\u001b[39mpropagate(edge_index, x\u001b[38;5;241m=\u001b[39mx, edge_weight\u001b[38;5;241m=\u001b[39medge_weight)\n",
      "File \u001b[1;32m~\\AppData\\Local\\Programs\\Python\\Python312\\Lib\\site-packages\\torch\\nn\\modules\\module.py:1532\u001b[0m, in \u001b[0;36mModule._wrapped_call_impl\u001b[1;34m(self, *args, **kwargs)\u001b[0m\n\u001b[0;32m   1530\u001b[0m     \u001b[38;5;28;01mreturn\u001b[39;00m \u001b[38;5;28mself\u001b[39m\u001b[38;5;241m.\u001b[39m_compiled_call_impl(\u001b[38;5;241m*\u001b[39margs, \u001b[38;5;241m*\u001b[39m\u001b[38;5;241m*\u001b[39mkwargs)  \u001b[38;5;66;03m# type: ignore[misc]\u001b[39;00m\n\u001b[0;32m   1531\u001b[0m \u001b[38;5;28;01melse\u001b[39;00m:\n\u001b[1;32m-> 1532\u001b[0m     \u001b[38;5;28;01mreturn\u001b[39;00m \u001b[38;5;28;43mself\u001b[39;49m\u001b[38;5;241;43m.\u001b[39;49m\u001b[43m_call_impl\u001b[49m\u001b[43m(\u001b[49m\u001b[38;5;241;43m*\u001b[39;49m\u001b[43margs\u001b[49m\u001b[43m,\u001b[49m\u001b[43m \u001b[49m\u001b[38;5;241;43m*\u001b[39;49m\u001b[38;5;241;43m*\u001b[39;49m\u001b[43mkwargs\u001b[49m\u001b[43m)\u001b[49m\n",
      "File \u001b[1;32m~\\AppData\\Local\\Programs\\Python\\Python312\\Lib\\site-packages\\torch\\nn\\modules\\module.py:1541\u001b[0m, in \u001b[0;36mModule._call_impl\u001b[1;34m(self, *args, **kwargs)\u001b[0m\n\u001b[0;32m   1536\u001b[0m \u001b[38;5;66;03m# If we don't have any hooks, we want to skip the rest of the logic in\u001b[39;00m\n\u001b[0;32m   1537\u001b[0m \u001b[38;5;66;03m# this function, and just call forward.\u001b[39;00m\n\u001b[0;32m   1538\u001b[0m \u001b[38;5;28;01mif\u001b[39;00m \u001b[38;5;129;01mnot\u001b[39;00m (\u001b[38;5;28mself\u001b[39m\u001b[38;5;241m.\u001b[39m_backward_hooks \u001b[38;5;129;01mor\u001b[39;00m \u001b[38;5;28mself\u001b[39m\u001b[38;5;241m.\u001b[39m_backward_pre_hooks \u001b[38;5;129;01mor\u001b[39;00m \u001b[38;5;28mself\u001b[39m\u001b[38;5;241m.\u001b[39m_forward_hooks \u001b[38;5;129;01mor\u001b[39;00m \u001b[38;5;28mself\u001b[39m\u001b[38;5;241m.\u001b[39m_forward_pre_hooks\n\u001b[0;32m   1539\u001b[0m         \u001b[38;5;129;01mor\u001b[39;00m _global_backward_pre_hooks \u001b[38;5;129;01mor\u001b[39;00m _global_backward_hooks\n\u001b[0;32m   1540\u001b[0m         \u001b[38;5;129;01mor\u001b[39;00m _global_forward_hooks \u001b[38;5;129;01mor\u001b[39;00m _global_forward_pre_hooks):\n\u001b[1;32m-> 1541\u001b[0m     \u001b[38;5;28;01mreturn\u001b[39;00m \u001b[43mforward_call\u001b[49m\u001b[43m(\u001b[49m\u001b[38;5;241;43m*\u001b[39;49m\u001b[43margs\u001b[49m\u001b[43m,\u001b[49m\u001b[43m \u001b[49m\u001b[38;5;241;43m*\u001b[39;49m\u001b[38;5;241;43m*\u001b[39;49m\u001b[43mkwargs\u001b[49m\u001b[43m)\u001b[49m\n\u001b[0;32m   1543\u001b[0m \u001b[38;5;28;01mtry\u001b[39;00m:\n\u001b[0;32m   1544\u001b[0m     result \u001b[38;5;241m=\u001b[39m \u001b[38;5;28;01mNone\u001b[39;00m\n",
      "File \u001b[1;32m~\\AppData\\Local\\Programs\\Python\\Python312\\Lib\\site-packages\\torch_geometric\\nn\\dense\\linear.py:147\u001b[0m, in \u001b[0;36mLinear.forward\u001b[1;34m(self, x)\u001b[0m\n\u001b[0;32m    141\u001b[0m \u001b[38;5;28;01mdef\u001b[39;00m \u001b[38;5;21mforward\u001b[39m(\u001b[38;5;28mself\u001b[39m, x: Tensor) \u001b[38;5;241m-\u001b[39m\u001b[38;5;241m>\u001b[39m Tensor:\n\u001b[0;32m    142\u001b[0m \u001b[38;5;250m    \u001b[39m\u001b[38;5;124mr\u001b[39m\u001b[38;5;124;03m\"\"\"Forward pass.\u001b[39;00m\n\u001b[0;32m    143\u001b[0m \n\u001b[0;32m    144\u001b[0m \u001b[38;5;124;03m    Args:\u001b[39;00m\n\u001b[0;32m    145\u001b[0m \u001b[38;5;124;03m        x (torch.Tensor): The input features.\u001b[39;00m\n\u001b[0;32m    146\u001b[0m \u001b[38;5;124;03m    \"\"\"\u001b[39;00m\n\u001b[1;32m--> 147\u001b[0m     \u001b[38;5;28;01mreturn\u001b[39;00m \u001b[43mF\u001b[49m\u001b[38;5;241;43m.\u001b[39;49m\u001b[43mlinear\u001b[49m\u001b[43m(\u001b[49m\u001b[43mx\u001b[49m\u001b[43m,\u001b[49m\u001b[43m \u001b[49m\u001b[38;5;28;43mself\u001b[39;49m\u001b[38;5;241;43m.\u001b[39;49m\u001b[43mweight\u001b[49m\u001b[43m,\u001b[49m\u001b[43m \u001b[49m\u001b[38;5;28;43mself\u001b[39;49m\u001b[38;5;241;43m.\u001b[39;49m\u001b[43mbias\u001b[49m\u001b[43m)\u001b[49m\n",
      "\u001b[1;31mKeyboardInterrupt\u001b[0m: "
     ]
    }
   ],
   "source": [
    "train_losses, train_accs, val_losses, val_accs = train_n_epoch_gcc(model, optimizer, criterion, data, epochs, min_delta, tolerance)"
   ]
  },
  {
   "cell_type": "markdown",
   "id": "84264470-f6bb-4c69-9195-9fa698effdd1",
   "metadata": {},
   "source": [
    "# linear"
   ]
  },
  {
   "cell_type": "code",
   "execution_count": 78,
   "id": "c8917b07-36d0-4244-9b47-75648b271e3b",
   "metadata": {},
   "outputs": [],
   "source": [
    "class LinearModel(torch.nn.Module):\n",
    "    def __init__(self, num_features, num_classes):\n",
    "        super(LinearModel, self).__init__()\n",
    "        self.fc1 = torch.nn.Linear(num_features, num_features//2)\n",
    "        self.fc2 = torch.nn.Linear(num_features//2, num_features//4)\n",
    "        self.fc3 = torch.nn.Linear(num_features//4, num_classes)\n",
    "    def forward(self, x):\n",
    "        x = self.fc1(x)\n",
    "        x = self.fc2(x)\n",
    "        x = self.fc3(x)\n",
    "        return x"
   ]
  },
  {
   "cell_type": "code",
   "execution_count": 79,
   "id": "04994d69-c8de-4dde-9c76-c868d1c50341",
   "metadata": {},
   "outputs": [],
   "source": [
    "def train_one_epoch(model, train_dataloader, loss_func, optimizer, device):\n",
    "  model.train()\n",
    "  epoch_loss = []\n",
    "  for (local_batch, local_label) in train_dataloader:\n",
    "    (local_batch, local_label) = (local_batch.to(device), local_label.to(device))\n",
    "    optimizer.zero_grad()\n",
    "    y_pred = model.forward(local_batch)\n",
    "    curr_loss = criterion.forward(y_pred, local_label)\n",
    "    curr_loss.backward()\n",
    "    optimizer.step()\n",
    "    epoch_loss.append(curr_loss.item())\n",
    "  return np.mean(epoch_loss)\n",
    "\n",
    "#use with torch.no_grad()\n",
    "def val_one_epoch(model, val_dataloader, loss_func, device):\n",
    "  model.eval()\n",
    "  epoch_loss = []\n",
    "  for (local_batch, local_label) in val_dataloader:\n",
    "    (local_batch, local_label) = (local_batch.to(device), local_label.to(device))\n",
    "    y_pred = model.forward(local_batch)\n",
    "    curr_loss = criterion.forward(y_pred, local_label)\n",
    "    epoch_loss.append(curr_loss.item())\n",
    "  return np.mean(epoch_loss)\n",
    "\n",
    "def test_model(model, test_dataloader, device, classes):\n",
    "  model.eval()\n",
    "  test_hits = 0\n",
    "  total = 0\n",
    "  confusion_matrix = torch.zeros(len(classes), len(classes))\n",
    "  for (local_batch, local_label) in test_dataloader:\n",
    "    (local_batch, local_label) = (local_batch.to(device), local_label.to(device))\n",
    "    y_pred = model.forward(local_batch)\n",
    "    _, preds = torch.max(y_pred, 1)\n",
    "    test_hits += torch.sum(preds.view(-1) == local_label.view(-1))\n",
    "    total += torch.numel(preds.view(-1))\n",
    "    for t, p in zip(local_label.view(-1), preds.view(-1)):\n",
    "        confusion_matrix[t.long(), p.long()] += 1\n",
    "  return confusion_matrix, test_hits, total"
   ]
  },
  {
   "cell_type": "code",
   "execution_count": 85,
   "id": "e4e946f5-a160-4e01-9eb7-d4227e18d922",
   "metadata": {},
   "outputs": [],
   "source": [
    "class Dataset(torch.utils.data.Dataset):\n",
    "    def __init__(self):\n",
    "        dataset, x_vocab, y_vocab = create_data_obj(G)\n",
    "        self.num_features = dataset.num_features\n",
    "        self.num_classes = len(y_vocab)\n",
    "        self.X = dataset.x\n",
    "        self.y = dataset.y\n",
    "\n",
    "    def __len__(self):\n",
    "        return len(self.X)\n",
    "\n",
    "    def __getitem__(self, idx):\n",
    "        return self.X[idx], self.y[idx]"
   ]
  },
  {
   "cell_type": "code",
   "execution_count": 86,
   "id": "5fa185c9-5e3b-4578-a544-498bc12698c9",
   "metadata": {},
   "outputs": [],
   "source": [
    "dataset = Dataset()\n",
    "BATCH_SIZE = 100\n",
    "INIT_LR = 1e-3\n",
    "EPOCH = 150\n",
    "device = \"cuda\" if torch.cuda.is_available() else \"cpu\"\n",
    "torch.cuda.empty_cache() if device == 'cuda' else None\n",
    "min_delta = 5e-3\n",
    "tolerance = 10"
   ]
  },
  {
   "cell_type": "code",
   "execution_count": 87,
   "id": "5a9a2392-05c7-43eb-9a32-4f6bbb70b61a",
   "metadata": {},
   "outputs": [],
   "source": [
    "trainSize = int(0.8*len(dataset))\n",
    "valSize = int(0.1*len(dataset))\n",
    "testSize = len(dataset) - trainSize - valSize\n",
    "train_dataset, val_dataset, test_dataset = torch.utils.data.random_split(dataset, [trainSize, valSize, testSize])"
   ]
  },
  {
   "cell_type": "code",
   "execution_count": 88,
   "id": "e8cf6305-d7c9-43b7-84ff-d769af1c1069",
   "metadata": {},
   "outputs": [],
   "source": [
    "trainLoader = torch.utils.data.DataLoader(train_dataset, batch_size=BATCH_SIZE, shuffle=True, pin_memory=True, num_workers = 0)\n",
    "valLoader = torch.utils.data.DataLoader(val_dataset, batch_size=BATCH_SIZE, shuffle=True, pin_memory=True, num_workers = 0)\n",
    "testLoader = torch.utils.data.DataLoader(test_dataset, batch_size=BATCH_SIZE, shuffle=False, pin_memory=True, num_workers = 0)"
   ]
  },
  {
   "cell_type": "code",
   "execution_count": 89,
   "id": "cbcc5ca3-8578-4698-9b09-03d788341358",
   "metadata": {},
   "outputs": [],
   "source": [
    "num_features, num_classes = dataset.num_features, dataset.num_classes"
   ]
  },
  {
   "cell_type": "code",
   "execution_count": 90,
   "id": "d6d02fcd-8a7f-4d6b-be2c-f02d525debcf",
   "metadata": {},
   "outputs": [
    {
     "name": "stdout",
     "output_type": "stream",
     "text": [
      "кол-во параметров в модели = 591\n"
     ]
    }
   ],
   "source": [
    "model = LinearModel(num_features, num_classes).to(device)\n",
    "print(f'кол-во параметров в модели = {sum(p.numel() for p in model.parameters() if p.requires_grad)}')"
   ]
  },
  {
   "cell_type": "code",
   "execution_count": 91,
   "id": "5a3db27c-dfe9-4aa7-aaf9-50b64041e5b4",
   "metadata": {},
   "outputs": [],
   "source": [
    "criterion = torch.nn.CrossEntropyLoss()\n",
    "optimizer = torch.optim.Adam(\n",
    "    model.parameters(),\n",
    "    lr=INIT_LR,\n",
    ")\n",
    "early_stopping = EarlyStopping(min_delta=min_delta, tolerance=tolerance)"
   ]
  },
  {
   "cell_type": "code",
   "execution_count": 94,
   "id": "67a13f2e-9ad4-46c3-bb0c-50e33b21db0e",
   "metadata": {},
   "outputs": [
    {
     "name": "stdout",
     "output_type": "stream",
     "text": [
      "epoch = 0, epoch = 1, epoch = 2, epoch = 3, epoch = 4, epoch = 5, epoch = 6, epoch = 7, \n",
      "counter = 1\n",
      "epoch = 8, epoch = 9, \n",
      "counter = 2\n",
      "epoch = 10, epoch = 11, \n",
      "counter = 3\n",
      "epoch = 12, \n",
      "counter = 4\n",
      "epoch = 13, epoch = 14, \n",
      "counter = 5\n",
      "epoch = 15, epoch = 16, \n",
      "counter = 6\n",
      "epoch = 17, \n",
      "counter = 7\n",
      "epoch = 18, epoch = 19, \n",
      "counter = 8\n",
      "epoch = 20, \n",
      "counter = 9\n",
      "epoch = 21, epoch = 22, \n",
      "counter = 10\n",
      "early stop at epoch №22\n"
     ]
    }
   ],
   "source": [
    "train_loss = []\n",
    "val_loss = []\n",
    "for epoch in range(EPOCH):\n",
    "    print(f'epoch = {epoch}, ', end=\"\")\n",
    "    epoch_train_loss = train_one_epoch(model, trainLoader, criterion, optimizer, device)\n",
    "    train_loss.append(epoch_train_loss)\n",
    "\n",
    "    with torch.no_grad():\n",
    "        epoch_val_loss = val_one_epoch(model, valLoader, criterion, device)\n",
    "        val_loss.append(epoch_val_loss)\n",
    "\n",
    "    early_stopping(epoch_val_loss)\n",
    "    if early_stopping.flag:\n",
    "        print(f'early stop at epoch №{epoch}')\n",
    "        break\n",
    "torch.cuda.empty_cache() if device == 'cuda' else None"
   ]
  },
  {
   "cell_type": "code",
   "execution_count": 95,
   "id": "36d611ba-7add-4db8-9e60-900a50d38573",
   "metadata": {},
   "outputs": [
    {
     "data": {
      "text/plain": [
       "<Axes: >"
      ]
     },
     "execution_count": 95,
     "metadata": {},
     "output_type": "execute_result"
    },
    {
     "data": {
      "image/png": "[encoded data removed]",
      "text/plain": [
       "<Figure size 640x480 with 1 Axes>"
      ]
     },
     "metadata": {},
     "output_type": "display_data"
    }
   ],
   "source": [
    "df = pd.DataFrame({'val_loss': [np.mean(x) for x in val_loss], 'train_loss': [np.mean(x) for x in train_loss]})\n",
    "df.plot(kind='line')"
   ]
  },
  {
   "cell_type": "code",
   "execution_count": 96,
   "id": "ccc3eb23-7d5f-44c7-ad7e-9ccddfee1bd5",
   "metadata": {},
   "outputs": [],
   "source": [
    "with torch.no_grad():\n",
    "    test_data = test_model(model, testLoader, device, [i for i in range(dataset.num_classes)])\n",
    "torch.cuda.empty_cache() if device == 'cuda' else None"
   ]
  },
  {
   "cell_type": "code",
   "execution_count": 97,
   "id": "5445cc59-3856-4367-8fba-6acd4af45aff",
   "metadata": {},
   "outputs": [
    {
     "name": "stdout",
     "output_type": "stream",
     "text": [
      "overall acc = 16.1%\n"
     ]
    }
   ],
   "source": [
    "overall_accuracy = test_data[1].item()/test_data[2]\n",
    "print(f'overall acc = {round(overall_accuracy*100,2)}%')"
   ]
  },
  {
   "cell_type": "code",
   "execution_count": 98,
   "id": "43d7e617-2c55-4917-9cfc-5b64e095a9ce",
   "metadata": {},
   "outputs": [
    {
     "data": {
      "text/plain": [
       "<Axes: >"
      ]
     },
     "execution_count": 98,
     "metadata": {},
     "output_type": "execute_result"
    },
    {
     "data": {
      "image/png": "[encoded data removed]",
      "text/plain": [
       "<Figure size 640x480 with 2 Axes>"
      ]
     },
     "metadata": {},
     "output_type": "display_data"
    }
   ],
   "source": [
    "from seaborn import heatmap\n",
    "heatmap(test_data[0])"
   ]
  },
  {
   "cell_type": "code",
   "execution_count": null,
   "id": "a0365adb-055b-4e36-bf6b-de3ed0b7cb6b",
   "metadata": {},
   "outputs": [],
   "source": []
  }
 ],
 "metadata": {
  "kernelspec": {
   "display_name": "Python 3 (ipykernel)",
   "language": "python",
   "name": "python3"
  },
  "language_info": {
   "codemirror_mode": {
    "name": "ipython",
    "version": 3
   },
   "file_extension": ".py",
   "mimetype": "text/x-python",
   "name": "python",
   "nbconvert_exporter": "python",
   "pygments_lexer": "ipython3",
   "version": "3.12.3"
  }
 },
 "nbformat": 4,
 "nbformat_minor": 5
}
