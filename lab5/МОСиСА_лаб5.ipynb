{
  "cells": [
    {
      "cell_type": "markdown",
      "source": [
        "# Graph Convolutional Networks"
      ],
      "metadata": {
        "id": "RpYlMVEnWq4W"
      }
    },
    {
      "cell_type": "code",
      "source": [
        "!pip -q install torch_geometric\n",
        "\n",
        "import torch\n",
        "import numpy as np\n",
        "import networkx as nx\n",
        "import matplotlib.pyplot as plt\n",
        "import pandas as pd"
      ],
      "metadata": {
        "id": "8kcdjHfj6SI0",
        "colab": {
          "base_uri": "https://localhost:8080/"
        },
        "outputId": "d13ff437-a94d-4afc-9216-1ab2258190dc"
      },
      "execution_count": null,
      "outputs": [
        {
          "output_type": "stream",
          "name": "stdout",
          "text": [
            "\u001b[?25l     \u001b[90m━━━━━━━━━━━━━━━━━━━━━━━━━━━━━━━━━━━━━━━━\u001b[0m \u001b[32m0.0/1.1 MB\u001b[0m \u001b[31m?\u001b[0m eta \u001b[36m-:--:--\u001b[0m\r\u001b[2K     \u001b[91m━━━\u001b[0m\u001b[90m╺\u001b[0m\u001b[90m━━━━━━━━━━━━━━━━━━━━━━━━━━━━━━━━━━━━\u001b[0m \u001b[32m0.1/1.1 MB\u001b[0m \u001b[31m2.5 MB/s\u001b[0m eta \u001b[36m0:00:01\u001b[0m\r\u001b[2K     \u001b[91m━━━━━━━━━━━━━━━━━━━\u001b[0m\u001b[90m╺\u001b[0m\u001b[90m━━━━━━━━━━━━━━━━━━━━\u001b[0m \u001b[32m0.5/1.1 MB\u001b[0m \u001b[31m7.4 MB/s\u001b[0m eta \u001b[36m0:00:01\u001b[0m\r\u001b[2K     \u001b[91m━━━━━━━━━━━━━━━━━━━━━━━━━━━━━━━━━━━━━\u001b[0m\u001b[91m╸\u001b[0m\u001b[90m━━\u001b[0m \u001b[32m1.0/1.1 MB\u001b[0m \u001b[31m9.5 MB/s\u001b[0m eta \u001b[36m0:00:01\u001b[0m\r\u001b[2K     \u001b[90m━━━━━━━━━━━━━━━━━━━━━━━━━━━━━━━━━━━━━━━━\u001b[0m \u001b[32m1.1/1.1 MB\u001b[0m \u001b[31m7.6 MB/s\u001b[0m eta \u001b[36m0:00:00\u001b[0m\n",
            "\u001b[?25h"
          ]
        }
      ]
    },
    {
      "cell_type": "code",
      "source": [
        "from torch.nn import Linear\n",
        "from torch_geometric.nn import GCNConv"
      ],
      "metadata": {
        "id": "FcpSnXZK6Ut9"
      },
      "execution_count": null,
      "outputs": []
    },
    {
      "cell_type": "code",
      "source": [
        "import torch_geometric"
      ],
      "metadata": {
        "id": "x3PuglUIAT6f"
      },
      "execution_count": null,
      "outputs": []
    },
    {
      "cell_type": "code",
      "source": [
        "from torch_geometric.datasets import Amazon"
      ],
      "metadata": {
        "id": "Ls6LW2Y06Tnq"
      },
      "execution_count": null,
      "outputs": []
    },
    {
      "cell_type": "code",
      "source": [
        "from torch_geometric.utils import to_dense_adj"
      ],
      "metadata": {
        "id": "sLESV3096Xxq"
      },
      "execution_count": null,
      "outputs": []
    },
    {
      "cell_type": "code",
      "source": [
        "from IPython.display import HTML\n",
        "from matplotlib import animation\n",
        "from torch_geometric.utils import to_networkx"
      ],
      "metadata": {
        "id": "shMYvSCfEQiJ"
      },
      "execution_count": null,
      "outputs": []
    },
    {
      "cell_type": "markdown",
      "source": [
        "## code structures"
      ],
      "metadata": {
        "id": "UNMy5Mf76GI0"
      }
    },
    {
      "cell_type": "markdown",
      "source": [
        "### common"
      ],
      "metadata": {
        "id": "mX6BwpGQvUyl"
      }
    },
    {
      "cell_type": "code",
      "source": [
        "def accuracy(pred_y, y):\n",
        "    return (pred_y == y).sum() / len(y)"
      ],
      "metadata": {
        "id": "_H5BAAmWvW8q"
      },
      "execution_count": null,
      "outputs": []
    },
    {
      "cell_type": "code",
      "source": [
        "class EarlyStopping():\n",
        "  def __init__(self, min_delta=0.001, tolerance=20):\n",
        "    self.tolerance = tolerance\n",
        "    self.min_delta = min_delta\n",
        "    self.counter = 0\n",
        "    self.flag = False\n",
        "    self.min_loss = 1000\n",
        "\n",
        "  def __call__(self, val_loss):\n",
        "    if (val_loss - self.min_loss) > self.min_delta:\n",
        "      self.counter += 1\n",
        "      print(f'\\ncounter = {self.counter}')\n",
        "      if self.counter >= self.tolerance:\n",
        "        self.flag = True\n",
        "    self.min_loss = val_loss if val_loss < self.min_loss else self.min_loss"
      ],
      "metadata": {
        "id": "mUMI19nUvXRa"
      },
      "execution_count": null,
      "outputs": []
    },
    {
      "cell_type": "markdown",
      "source": [
        "### gcn"
      ],
      "metadata": {
        "id": "xI23bvjUvRBA"
      }
    },
    {
      "cell_type": "code",
      "source": [
        "class GCN(torch.nn.Module):\n",
        "    def __init__(self, num_features, num_classes):\n",
        "        super(GCN, self).__init__()\n",
        "        self.conv1 = GCNConv(num_features, 2 * num_features, cached=True) # cached only for transductive learning\n",
        "        self.conv2 = GCNConv(2 * num_features, num_features, cached=True) # cached only for transductive learning\n",
        "        self.fc = torch.nn.Linear(num_features, num_classes)\n",
        "    def forward(self, x, edge_index):\n",
        "        x = self.conv1(x, edge_index).relu()\n",
        "        x = self.conv2(x, edge_index).relu()\n",
        "        return self.fc(x)"
      ],
      "metadata": {
        "id": "tTnol8YyBBF9"
      },
      "execution_count": null,
      "outputs": []
    },
    {
      "cell_type": "code",
      "source": [
        "def train_one_epoch_gcc(model, optimizer, loss_func, x, y, train_pos_edge_index):\n",
        "    model.train()\n",
        "    optimizer.zero_grad()\n",
        "    y_pred = model.forward(x, train_pos_edge_index)\n",
        "    loss = loss_func.forward(y_pred, y)\n",
        "    loss.backward()\n",
        "    optimizer.step()\n",
        "    _, y_pred = torch.max(y_pred, 1)\n",
        "    return loss.item(), accuracy(y_pred, y)\n",
        "\n",
        "def val_one_epoch_gcc(model, loss_func, x, y, val_pos_edge_index):\n",
        "    model.eval()\n",
        "    y_pred = model.forward(x, val_pos_edge_index)\n",
        "    loss = loss_func.forward(y_pred, y)\n",
        "    _, y_pred = torch.max(y_pred, 1)\n",
        "    return loss.item(), accuracy(y_pred, y)"
      ],
      "metadata": {
        "id": "sfiAdkIpaC8A"
      },
      "execution_count": null,
      "outputs": []
    },
    {
      "cell_type": "code",
      "source": [
        "def test(model, x, y, test_pos_edge_index, classes):\n",
        "    model.eval()\n",
        "    conf_matr = torch.zeros(len(classes), len(classes))\n",
        "    y_pred = model.forward(x, test_pos_edge_index)\n",
        "    _, preds = torch.max(y_pred, 1)\n",
        "    test_hits = torch.sum(preds.view(-1) == y.view(-1))\n",
        "    total = torch.numel(preds.view(-1))\n",
        "    for t,p in zip(y.view(-1), preds.view(-1)):\n",
        "        conf_matr[t.long(), p.long()] += 1\n",
        "    return conf_matr, test_hits/total\n",
        "\n",
        "def test_model_gcc(model, data, classes):\n",
        "    device = torch.device('cuda' if torch.cuda.is_available() else 'cpu')\n",
        "    model = model.to(device)\n",
        "    x = data.x.to(device)\n",
        "    y = data.y.to(device)\n",
        "    test_pos_edge_index = data.test_pos_edge_index.to(device)\n",
        "    return test(model, x, y, test_pos_edge_index, classes)"
      ],
      "metadata": {
        "id": "Ii_lWozReKNc"
      },
      "execution_count": null,
      "outputs": []
    },
    {
      "cell_type": "code",
      "source": [
        "def train_n_epoch_gcc(model, optimizer, loss_func, data, max_epoch, min_delta, tolerance, verbose=True):\n",
        "    device = torch.device('cuda' if torch.cuda.is_available() else 'cpu')\n",
        "    x = data.x.to(device)\n",
        "    y = data.y.to(device)\n",
        "    model.to(device)\n",
        "    train_losses = []\n",
        "    val_losses = []\n",
        "    train_accs = []\n",
        "    val_accs = []\n",
        "    train_pos_edge_index = data.train_pos_edge_index.to(device)\n",
        "    val_pos_edge_index = data.val_pos_edge_index.to(device)\n",
        "    early_stopping = EarlyStopping(min_delta=min_delta, tolerance=tolerance)\n",
        "\n",
        "    for i in range(max_epoch):\n",
        "        train_metrics = train_one_epoch_gcc(model, optimizer, loss_func, x, y, train_pos_edge_index)\n",
        "        train_losses.append(train_metrics[0])\n",
        "        train_accs.append(train_metrics[1])\n",
        "\n",
        "        with torch.no_grad():\n",
        "            val_metrics = val_one_epoch_gcc(model, loss_func, x, y, val_pos_edge_index)\n",
        "            val_losses.append(val_metrics[0])\n",
        "            val_accs.append(val_metrics[1])\n",
        "\n",
        "        if verbose and i%10==0:\n",
        "            print(f'Epoch {i:>3} | train loss: {train_metrics[0]:.2f} | train acc: {train_metrics[1]*100:.2f}% | val loss: {val_metrics[0]:.2f} | val acc: {val_metrics[1]*100:.2f}%')\n",
        "\n",
        "        early_stopping(val_metrics[0])\n",
        "        if early_stopping.flag:\n",
        "            print(f'\\nearly stop at epoch №{i}')\n",
        "            break\n",
        "    return train_losses, train_accs, val_losses, val_accs"
      ],
      "metadata": {
        "id": "8QJOPdUdXY8k"
      },
      "execution_count": null,
      "outputs": []
    },
    {
      "cell_type": "markdown",
      "source": [
        "### normal"
      ],
      "metadata": {
        "id": "XlHvuqJ9vLu4"
      }
    },
    {
      "cell_type": "code",
      "source": [
        "class LinearModel(torch.nn.Module):\n",
        "    def __init__(self, num_features, num_classes):\n",
        "        super(LinearModel, self).__init__()\n",
        "        self.fc1 = torch.nn.Linear(num_features, num_features//2)\n",
        "        self.fc2 = torch.nn.Linear(num_features//2, num_features//4)\n",
        "        self.fc3 = torch.nn.Linear(num_features//4, num_classes)\n",
        "    def forward(self, x):\n",
        "        x = self.fc1(x)\n",
        "        x = self.fc2(x)\n",
        "        x = self.fc3(x)\n",
        "        return x"
      ],
      "metadata": {
        "id": "2S5KsU98vT1M"
      },
      "execution_count": null,
      "outputs": []
    },
    {
      "cell_type": "code",
      "source": [
        "def train_one_epoch(model, train_dataloader, loss_func, optimizer, device):\n",
        "  model.train()\n",
        "  epoch_loss = []\n",
        "  for (local_batch, local_label) in train_dataloader:\n",
        "    (local_batch, local_label) = (local_batch.to(device), local_label.to(device))\n",
        "    optimizer.zero_grad()\n",
        "    y_pred = model.forward(local_batch)\n",
        "    curr_loss = criterion.forward(y_pred, local_label)\n",
        "    curr_loss.backward()\n",
        "    optimizer.step()\n",
        "    epoch_loss.append(curr_loss.item())\n",
        "  return np.mean(epoch_loss)\n",
        "\n",
        "#use with torch.no_grad()\n",
        "def val_one_epoch(model, val_dataloader, loss_func, device):\n",
        "  model.eval()\n",
        "  epoch_loss = []\n",
        "  for (local_batch, local_label) in val_dataloader:\n",
        "    (local_batch, local_label) = (local_batch.to(device), local_label.to(device))\n",
        "    y_pred = model.forward(local_batch)\n",
        "    curr_loss = criterion.forward(y_pred, local_label)\n",
        "    epoch_loss.append(curr_loss.item())\n",
        "  return np.mean(epoch_loss)\n",
        "\n",
        "def test_model(model, test_dataloader, device, classes):\n",
        "  model.eval()\n",
        "  test_hits = 0\n",
        "  total = 0\n",
        "  confusion_matrix = torch.zeros(len(classes), len(classes))\n",
        "  for (local_batch, local_label) in test_dataloader:\n",
        "    (local_batch, local_label) = (local_batch.to(device), local_label.to(device))\n",
        "    y_pred = model.forward(local_batch)\n",
        "    _, preds = torch.max(y_pred, 1)\n",
        "    test_hits += torch.sum(preds.view(-1) == local_label.view(-1))\n",
        "    total += torch.numel(preds.view(-1))\n",
        "    for t, p in zip(local_label.view(-1), preds.view(-1)):\n",
        "        confusion_matrix[t.long(), p.long()] += 1\n",
        "  return confusion_matrix, test_hits, total"
      ],
      "metadata": {
        "id": "fi0dLNHIBY6F"
      },
      "execution_count": null,
      "outputs": []
    },
    {
      "cell_type": "code",
      "source": [
        "class Dataset(torch.utils.data.Dataset):\n",
        "    def __init__(self):\n",
        "        dataset = Amazon(root='/', name='Computers', transform=torch_geometric.transforms.NormalizeFeatures())\n",
        "        self.num_features = dataset.num_features\n",
        "        self.num_classes = dataset.num_classes\n",
        "        dataset = dataset[0]\n",
        "        self.X = dataset['x']\n",
        "        self.y = dataset['y']\n",
        "\n",
        "    def __len__(self):\n",
        "        return len(self.X)\n",
        "\n",
        "    def __getitem__(self, idx):\n",
        "        return self.X[idx], self.y[idx]"
      ],
      "metadata": {
        "id": "EJMG78RzZKFg"
      },
      "execution_count": null,
      "outputs": []
    },
    {
      "cell_type": "markdown",
      "source": [
        "## graph params"
      ],
      "metadata": {
        "id": "hQWhw5F16J9G"
      }
    },
    {
      "cell_type": "code",
      "execution_count": null,
      "metadata": {
        "colab": {
          "base_uri": "https://localhost:8080/"
        },
        "id": "mJNB7DRlV2Hc",
        "outputId": "03bdaf23-ee49-4cfb-e159-f934c936c33f"
      },
      "outputs": [
        {
          "output_type": "stream",
          "name": "stderr",
          "text": [
            "Downloading https://github.com/shchur/gnn-benchmark/raw/master/data/npz/amazon_electronics_computers.npz\n",
            "Processing...\n"
          ]
        },
        {
          "output_type": "stream",
          "name": "stdout",
          "text": [
            "AmazonComputers()\n",
            "------------\n",
            "Number of graphs: 1\n",
            "Number of features: 767\n",
            "Number of classes: 10\n"
          ]
        },
        {
          "output_type": "stream",
          "name": "stderr",
          "text": [
            "Done!\n"
          ]
        }
      ],
      "source": [
        "# Import dataset from PyTorch Geometric\n",
        "dataset = Amazon(root='/', name='Computers', transform=torch_geometric.transforms.NormalizeFeatures())\n",
        "\n",
        "# Print information\n",
        "print(dataset)\n",
        "print('------------')\n",
        "print(f'Number of graphs: {len(dataset)}')\n",
        "print(f'Number of features: {dataset.num_features}')\n",
        "print(f'Number of classes: {dataset.num_classes}')"
      ]
    },
    {
      "cell_type": "code",
      "execution_count": null,
      "metadata": {
        "colab": {
          "base_uri": "https://localhost:8080/"
        },
        "id": "zRBM00UoV2FT",
        "outputId": "92f54274-292c-4982-c7a5-7d017881564b"
      },
      "outputs": [
        {
          "output_type": "stream",
          "name": "stdout",
          "text": [
            "Graph: Data(x=[13752, 767], edge_index=[2, 491722], y=[13752])\n"
          ]
        },
        {
          "output_type": "stream",
          "name": "stderr",
          "text": [
            "/usr/local/lib/python3.10/dist-packages/torch_geometric/data/in_memory_dataset.py:300: UserWarning: It is not recommended to directly access the internal storage format `data` of an 'InMemoryDataset'. If you are absolutely certain what you are doing, access the internal storage via `InMemoryDataset._data` instead to suppress this warning. Alternatively, you can access stacked individual attributes of every graph via `dataset.{attr_name}`.\n",
            "  warnings.warn(msg)\n"
          ]
        }
      ],
      "source": [
        "# Print first element\n",
        "print(f'Graph: {dataset.data}')"
      ]
    },
    {
      "cell_type": "code",
      "source": [
        "dataset.data.edge_index"
      ],
      "metadata": {
        "colab": {
          "base_uri": "https://localhost:8080/"
        },
        "id": "K3NGkeKqJFbR",
        "outputId": "32b5922a-ed78-48a7-d416-53acb4fe6822"
      },
      "execution_count": null,
      "outputs": [
        {
          "output_type": "execute_result",
          "data": {
            "text/plain": [
              "tensor([[    0,     0,     0,  ..., 13751, 13751, 13751],\n",
              "        [  507,  6551,  8210,  ..., 12751, 13019, 13121]])"
            ]
          },
          "metadata": {},
          "execution_count": 18
        }
      ]
    },
    {
      "cell_type": "code",
      "source": [
        "dataset.data.x"
      ],
      "metadata": {
        "colab": {
          "base_uri": "https://localhost:8080/"
        },
        "id": "KR_kupCeMhY_",
        "outputId": "ad279d2b-b498-4476-af4b-c1d4001bc9d5"
      },
      "execution_count": null,
      "outputs": [
        {
          "output_type": "execute_result",
          "data": {
            "text/plain": [
              "tensor([[0., 0., 0.,  ..., 0., 0., 0.],\n",
              "        [1., 1., 0.,  ..., 0., 1., 0.],\n",
              "        [0., 0., 0.,  ..., 0., 0., 0.],\n",
              "        ...,\n",
              "        [1., 0., 0.,  ..., 0., 0., 0.],\n",
              "        [1., 0., 0.,  ..., 0., 0., 0.],\n",
              "        [1., 1., 0.,  ..., 1., 1., 0.]])"
            ]
          },
          "metadata": {},
          "execution_count": 19
        }
      ]
    },
    {
      "cell_type": "code",
      "source": [
        "dataset.data.y"
      ],
      "metadata": {
        "colab": {
          "base_uri": "https://localhost:8080/"
        },
        "id": "nGnAPlOO112n",
        "outputId": "cadc9d53-71f9-4401-dffc-65f6812bb940"
      },
      "execution_count": null,
      "outputs": [
        {
          "output_type": "execute_result",
          "data": {
            "text/plain": [
              "tensor([4, 4, 8,  ..., 8, 4, 0])"
            ]
          },
          "metadata": {},
          "execution_count": 20
        }
      ]
    },
    {
      "cell_type": "markdown",
      "source": [
        "## GCN model"
      ],
      "metadata": {
        "id": "XvbhpiPa7AvW"
      }
    },
    {
      "cell_type": "code",
      "source": [
        "epochs = 1000\n",
        "lr = 1e-3\n",
        "dataset = Amazon(root='/', name='Computers', transform=torch_geometric.transforms.NormalizeFeatures())\n",
        "num_features = dataset.num_features\n",
        "num_classes = dataset.num_classes\n",
        "model = GCN(num_features, num_classes)\n",
        "criterion = torch.nn.CrossEntropyLoss()\n",
        "optimizer = torch.optim.Adam(\n",
        "    model.parameters(),\n",
        "    lr=lr,\n",
        ")\n",
        "min_delta = 5e-3\n",
        "tolerance = 10"
      ],
      "metadata": {
        "id": "Y-imGaPAEO31"
      },
      "execution_count": null,
      "outputs": []
    },
    {
      "cell_type": "code",
      "source": [
        "data = dataset[0]\n",
        "data = torch_geometric.utils.train_test_split_edges(data, test_ratio=0.2, val_ratio=0.1)\n",
        "data"
      ],
      "metadata": {
        "colab": {
          "base_uri": "https://localhost:8080/"
        },
        "id": "U3XlpCphEzfh",
        "outputId": "cfe84d8d-1b78-416d-9839-95d243c6119a"
      },
      "execution_count": null,
      "outputs": [
        {
          "output_type": "stream",
          "name": "stderr",
          "text": [
            "C:\\Users\\user\\AppData\\Local\\Programs\\Python\\Python311\\Lib\\site-packages\\torch_geometric\\deprecation.py:26: UserWarning: 'train_test_split_edges' is deprecated, use 'transforms.RandomLinkSplit' instead\n",
            "  warnings.warn(out)\n"
          ]
        },
        {
          "output_type": "execute_result",
          "data": {
            "text/plain": [
              "Data(x=[13752, 767], y=[13752], val_pos_edge_index=[2, 24586], test_pos_edge_index=[2, 49172], train_pos_edge_index=[2, 344206], train_neg_adj_mask=[13752, 13752], val_neg_edge_index=[2, 24586], test_neg_edge_index=[2, 49172])"
            ]
          },
          "metadata": {},
          "execution_count": 19
        }
      ]
    },
    {
      "cell_type": "code",
      "source": [
        "data['train_neg_adj_mask'] = data['val_neg_edge_index'] = data['test_neg_edge_index'] = None\n",
        "data"
      ],
      "metadata": {
        "colab": {
          "base_uri": "https://localhost:8080/"
        },
        "id": "L0pM2qRnGuCj",
        "outputId": "786bb173-82d9-49b9-919f-03dae85fb5c1"
      },
      "execution_count": null,
      "outputs": [
        {
          "output_type": "execute_result",
          "data": {
            "text/plain": [
              "Data(x=[13752, 767], y=[13752], val_pos_edge_index=[2, 24586], test_pos_edge_index=[2, 49172], train_pos_edge_index=[2, 344206])"
            ]
          },
          "metadata": {},
          "execution_count": 20
        }
      ]
    },
    {
      "cell_type": "code",
      "source": [
        "train_losses, train_accs, val_losses, val_accs = train_n_epoch_gcc(model, optimizer, criterion, data, epochs, min_delta, tolerance)"
      ],
      "metadata": {
        "colab": {
          "base_uri": "https://localhost:8080/"
        },
        "id": "l41nI7T1FpQr",
        "outputId": "da5e55ef-34ed-47b3-8d87-e34e7a07e18e"
      },
      "execution_count": null,
      "outputs": [
        {
          "output_type": "stream",
          "name": "stdout",
          "text": [
            "Epoch   0 | train loss: 2.29 | train acc: 15.68% | val loss: 2.28 | val acc: 16.27%\n",
            "Epoch  10 | train loss: 1.95 | train acc: 37.51% | val loss: 1.95 | val acc: 37.51%\n",
            "\n",
            "counter = 1\n",
            "\n",
            "counter = 2\n",
            "\n",
            "counter = 3\n",
            "\n",
            "counter = 4\n",
            "\n",
            "counter = 5\n",
            "Epoch  20 | train loss: 1.92 | train acc: 37.51% | val loss: 1.92 | val acc: 37.51%\n",
            "Epoch  30 | train loss: 1.90 | train acc: 37.51% | val loss: 1.89 | val acc: 37.51%\n",
            "Epoch  40 | train loss: 1.84 | train acc: 37.51% | val loss: 1.83 | val acc: 37.51%\n",
            "Epoch  50 | train loss: 1.73 | train acc: 37.51% | val loss: 1.72 | val acc: 37.51%\n",
            "Epoch  60 | train loss: 1.56 | train acc: 39.97% | val loss: 1.55 | val acc: 40.86%\n",
            "Epoch  70 | train loss: 1.41 | train acc: 50.41% | val loss: 1.40 | val acc: 51.14%\n",
            "Epoch  80 | train loss: 1.27 | train acc: 54.74% | val loss: 1.25 | val acc: 56.23%\n",
            "Epoch  90 | train loss: 1.11 | train acc: 67.02% | val loss: 1.09 | val acc: 67.46%\n",
            "Epoch 100 | train loss: 0.93 | train acc: 69.82% | val loss: 0.92 | val acc: 69.68%\n",
            "Epoch 110 | train loss: 0.79 | train acc: 71.63% | val loss: 0.77 | val acc: 71.98%\n",
            "Epoch 120 | train loss: 0.67 | train acc: 78.71% | val loss: 0.66 | val acc: 79.17%\n",
            "Epoch 130 | train loss: 0.57 | train acc: 82.64% | val loss: 0.57 | val acc: 83.09%\n",
            "Epoch 140 | train loss: 0.51 | train acc: 84.95% | val loss: 0.50 | val acc: 85.02%\n",
            "Epoch 150 | train loss: 0.46 | train acc: 86.40% | val loss: 0.46 | val acc: 86.60%\n",
            "Epoch 160 | train loss: 0.42 | train acc: 87.69% | val loss: 0.42 | val acc: 87.86%\n",
            "Epoch 170 | train loss: 0.40 | train acc: 88.43% | val loss: 0.40 | val acc: 88.53%\n",
            "Epoch 180 | train loss: 0.38 | train acc: 88.93% | val loss: 0.38 | val acc: 89.09%\n",
            "Epoch 190 | train loss: 0.36 | train acc: 89.46% | val loss: 0.36 | val acc: 89.40%\n",
            "Epoch 200 | train loss: 0.35 | train acc: 89.82% | val loss: 0.35 | val acc: 89.85%\n",
            "Epoch 210 | train loss: 0.34 | train acc: 90.07% | val loss: 0.34 | val acc: 90.08%\n",
            "Epoch 220 | train loss: 0.33 | train acc: 90.40% | val loss: 0.32 | val acc: 90.42%\n",
            "Epoch 230 | train loss: 0.32 | train acc: 90.64% | val loss: 0.31 | val acc: 90.65%\n",
            "Epoch 240 | train loss: 0.31 | train acc: 90.78% | val loss: 0.31 | val acc: 90.94%\n",
            "Epoch 250 | train loss: 0.30 | train acc: 91.08% | val loss: 0.30 | val acc: 90.88%\n",
            "Epoch 260 | train loss: 0.29 | train acc: 91.30% | val loss: 0.29 | val acc: 91.19%\n",
            "Epoch 270 | train loss: 0.29 | train acc: 91.40% | val loss: 0.28 | val acc: 91.39%\n",
            "Epoch 280 | train loss: 0.28 | train acc: 91.54% | val loss: 0.28 | val acc: 91.54%\n",
            "Epoch 290 | train loss: 0.27 | train acc: 91.64% | val loss: 0.27 | val acc: 91.67%\n",
            "Epoch 300 | train loss: 0.27 | train acc: 91.88% | val loss: 0.27 | val acc: 91.88%\n",
            "Epoch 310 | train loss: 0.27 | train acc: 91.86% | val loss: 0.26 | val acc: 92.06%\n",
            "Epoch 320 | train loss: 0.26 | train acc: 92.19% | val loss: 0.26 | val acc: 92.17%\n",
            "Epoch 330 | train loss: 0.26 | train acc: 92.23% | val loss: 0.25 | val acc: 92.34%\n",
            "Epoch 340 | train loss: 0.25 | train acc: 92.44% | val loss: 0.25 | val acc: 92.31%\n",
            "Epoch 350 | train loss: 0.25 | train acc: 92.59% | val loss: 0.25 | val acc: 92.57%\n",
            "Epoch 360 | train loss: 0.24 | train acc: 92.57% | val loss: 0.24 | val acc: 92.68%\n",
            "Epoch 370 | train loss: 0.24 | train acc: 92.76% | val loss: 0.24 | val acc: 92.71%\n",
            "Epoch 380 | train loss: 0.24 | train acc: 92.76% | val loss: 0.24 | val acc: 92.83%\n",
            "Epoch 390 | train loss: 0.23 | train acc: 92.93% | val loss: 0.23 | val acc: 92.83%\n",
            "Epoch 400 | train loss: 0.23 | train acc: 92.95% | val loss: 0.23 | val acc: 92.99%\n",
            "Epoch 410 | train loss: 0.23 | train acc: 93.08% | val loss: 0.23 | val acc: 93.03%\n",
            "Epoch 420 | train loss: 0.23 | train acc: 93.08% | val loss: 0.23 | val acc: 93.10%\n",
            "Epoch 430 | train loss: 0.23 | train acc: 93.14% | val loss: 0.22 | val acc: 93.11%\n",
            "Epoch 440 | train loss: 0.22 | train acc: 93.22% | val loss: 0.22 | val acc: 93.16%\n",
            "Epoch 450 | train loss: 0.22 | train acc: 93.28% | val loss: 0.22 | val acc: 93.24%\n",
            "Epoch 460 | train loss: 0.22 | train acc: 93.38% | val loss: 0.22 | val acc: 93.35%\n",
            "Epoch 470 | train loss: 0.22 | train acc: 93.39% | val loss: 0.21 | val acc: 93.49%\n",
            "Epoch 480 | train loss: 0.21 | train acc: 93.45% | val loss: 0.21 | val acc: 93.43%\n",
            "Epoch 490 | train loss: 0.21 | train acc: 93.50% | val loss: 0.21 | val acc: 93.51%\n",
            "Epoch 500 | train loss: 0.21 | train acc: 93.54% | val loss: 0.21 | val acc: 93.55%\n",
            "Epoch 510 | train loss: 0.21 | train acc: 93.75% | val loss: 0.21 | val acc: 93.54%\n",
            "Epoch 520 | train loss: 0.21 | train acc: 93.57% | val loss: 0.21 | val acc: 93.83%\n",
            "Epoch 530 | train loss: 0.20 | train acc: 93.74% | val loss: 0.20 | val acc: 93.70%\n",
            "Epoch 540 | train loss: 0.20 | train acc: 93.86% | val loss: 0.20 | val acc: 93.72%\n",
            "Epoch 550 | train loss: 0.20 | train acc: 93.69% | val loss: 0.20 | val acc: 93.94%\n",
            "Epoch 560 | train loss: 0.20 | train acc: 93.83% | val loss: 0.20 | val acc: 93.80%\n",
            "Epoch 570 | train loss: 0.20 | train acc: 94.05% | val loss: 0.20 | val acc: 93.91%\n",
            "Epoch 580 | train loss: 0.20 | train acc: 93.89% | val loss: 0.20 | val acc: 94.04%\n",
            "Epoch 590 | train loss: 0.19 | train acc: 94.04% | val loss: 0.20 | val acc: 93.98%\n",
            "Epoch 600 | train loss: 0.19 | train acc: 94.14% | val loss: 0.19 | val acc: 94.14%\n",
            "Epoch 610 | train loss: 0.19 | train acc: 94.11% | val loss: 0.19 | val acc: 94.15%\n",
            "Epoch 620 | train loss: 0.19 | train acc: 94.18% | val loss: 0.19 | val acc: 94.22%\n",
            "Epoch 630 | train loss: 0.19 | train acc: 94.16% | val loss: 0.19 | val acc: 94.23%\n",
            "Epoch 640 | train loss: 0.19 | train acc: 94.36% | val loss: 0.19 | val acc: 94.24%\n",
            "Epoch 650 | train loss: 0.19 | train acc: 94.23% | val loss: 0.19 | val acc: 94.28%\n",
            "Epoch 660 | train loss: 0.19 | train acc: 94.18% | val loss: 0.19 | val acc: 94.40%\n",
            "Epoch 670 | train loss: 0.18 | train acc: 94.46% | val loss: 0.18 | val acc: 94.37%\n",
            "Epoch 680 | train loss: 0.19 | train acc: 94.21% | val loss: 0.19 | val acc: 94.39%\n",
            "Epoch 690 | train loss: 0.18 | train acc: 94.42% | val loss: 0.18 | val acc: 94.42%\n",
            "Epoch 700 | train loss: 0.18 | train acc: 94.34% | val loss: 0.18 | val acc: 94.54%\n",
            "Epoch 710 | train loss: 0.18 | train acc: 94.53% | val loss: 0.18 | val acc: 94.41%\n",
            "Epoch 720 | train loss: 0.18 | train acc: 94.51% | val loss: 0.18 | val acc: 94.62%\n",
            "Epoch 730 | train loss: 0.18 | train acc: 94.54% | val loss: 0.18 | val acc: 94.63%\n",
            "Epoch 740 | train loss: 0.18 | train acc: 94.63% | val loss: 0.18 | val acc: 94.49%\n",
            "Epoch 750 | train loss: 0.18 | train acc: 94.35% | val loss: 0.18 | val acc: 94.72%\n",
            "Epoch 760 | train loss: 0.17 | train acc: 94.55% | val loss: 0.17 | val acc: 94.71%\n",
            "Epoch 770 | train loss: 0.17 | train acc: 94.71% | val loss: 0.17 | val acc: 94.69%\n",
            "Epoch 780 | train loss: 0.17 | train acc: 94.68% | val loss: 0.17 | val acc: 94.78%\n",
            "Epoch 790 | train loss: 0.17 | train acc: 94.75% | val loss: 0.17 | val acc: 94.75%\n",
            "Epoch 800 | train loss: 0.17 | train acc: 94.70% | val loss: 0.17 | val acc: 94.79%\n",
            "Epoch 810 | train loss: 0.17 | train acc: 94.87% | val loss: 0.17 | val acc: 94.78%\n",
            "Epoch 820 | train loss: 0.17 | train acc: 94.84% | val loss: 0.17 | val acc: 94.85%\n",
            "Epoch 830 | train loss: 0.17 | train acc: 94.69% | val loss: 0.17 | val acc: 94.94%\n",
            "Epoch 840 | train loss: 0.17 | train acc: 94.95% | val loss: 0.17 | val acc: 94.90%\n",
            "Epoch 850 | train loss: 0.16 | train acc: 94.95% | val loss: 0.16 | val acc: 94.90%\n",
            "Epoch 860 | train loss: 0.17 | train acc: 94.84% | val loss: 0.17 | val acc: 94.76%\n",
            "Epoch 870 | train loss: 0.16 | train acc: 94.96% | val loss: 0.16 | val acc: 94.94%\n",
            "Epoch 880 | train loss: 0.16 | train acc: 94.95% | val loss: 0.16 | val acc: 95.03%\n",
            "Epoch 890 | train loss: 0.16 | train acc: 94.98% | val loss: 0.16 | val acc: 95.05%\n",
            "Epoch 900 | train loss: 0.16 | train acc: 95.03% | val loss: 0.16 | val acc: 94.93%\n",
            "Epoch 910 | train loss: 0.16 | train acc: 95.09% | val loss: 0.16 | val acc: 95.08%\n",
            "Epoch 920 | train loss: 0.16 | train acc: 95.06% | val loss: 0.16 | val acc: 95.09%\n",
            "Epoch 930 | train loss: 0.16 | train acc: 95.08% | val loss: 0.16 | val acc: 95.03%\n",
            "Epoch 940 | train loss: 0.16 | train acc: 95.16% | val loss: 0.16 | val acc: 95.15%\n",
            "Epoch 950 | train loss: 0.16 | train acc: 95.11% | val loss: 0.16 | val acc: 95.13%\n",
            "Epoch 960 | train loss: 0.16 | train acc: 95.08% | val loss: 0.16 | val acc: 95.27%\n",
            "Epoch 970 | train loss: 0.15 | train acc: 95.16% | val loss: 0.16 | val acc: 95.26%\n",
            "\n",
            "counter = 6\n",
            "Epoch 980 | train loss: 0.15 | train acc: 95.30% | val loss: 0.15 | val acc: 95.13%\n",
            "Epoch 990 | train loss: 0.15 | train acc: 95.25% | val loss: 0.15 | val acc: 95.32%\n"
          ]
        }
      ]
    },
    {
      "cell_type": "code",
      "source": [
        "df = pd.DataFrame({'train_acc': [x.item() for x in train_accs[::10]], 'val_acc': [x.item() for x in val_accs[::10]]})\n",
        "df.plot(kind='line')"
      ],
      "metadata": {
        "colab": {
          "base_uri": "https://localhost:8080/",
          "height": 447
        },
        "id": "ZmaSo0MtKojn",
        "outputId": "4248ab10-a490-4305-cff5-f97ee21a417d"
      },
      "execution_count": null,
      "outputs": [
        {
          "output_type": "execute_result",
          "data": {
            "text/plain": [
              "<Axes: >"
            ]
          },
          "metadata": {},
          "execution_count": 22
        },
        {
          "output_type": "display_data",
          "data": {
            "text/plain": [
              "<Figure size 640x480 with 1 Axes>"
            ],
            "image/png": "[encoded data removed]"
          },
          "metadata": {}
        }
      ]
    },
    {
      "cell_type": "code",
      "source": [
        "df = pd.DataFrame({'train_loss': [np.mean(x) for x in train_losses[::10]], 'val_loss': [np.mean(x) for x in val_losses[::10]]})\n",
        "df.plot(kind='line')"
      ],
      "metadata": {
        "colab": {
          "base_uri": "https://localhost:8080/",
          "height": 447
        },
        "id": "1g2FGBwSKQyq",
        "outputId": "7b5399b6-bd30-486d-cdca-b8ae2ca6456f"
      },
      "execution_count": null,
      "outputs": [
        {
          "output_type": "execute_result",
          "data": {
            "text/plain": [
              "<Axes: >"
            ]
          },
          "metadata": {},
          "execution_count": 23
        },
        {
          "output_type": "display_data",
          "data": {
            "text/plain": [
              "<Figure size 640x480 with 1 Axes>"
            ],
            "image/png": "[encoded data removed]"
          },
          "metadata": {}
        }
      ]
    },
    {
      "cell_type": "code",
      "source": [
        "conf_matr, acc = test_model_gcc(model, data, [i for i in range(dataset.num_classes)])"
      ],
      "metadata": {
        "id": "KvUbjwAsJ_JL"
      },
      "execution_count": null,
      "outputs": []
    },
    {
      "cell_type": "code",
      "source": [
        "from seaborn import heatmap\n",
        "heatmap(conf_matr)"
      ],
      "metadata": {
        "colab": {
          "base_uri": "https://localhost:8080/",
          "height": 447
        },
        "id": "O8J9hTjkLs9R",
        "outputId": "38ad825a-ace9-4b99-d03b-55589de7edb0"
      },
      "execution_count": null,
      "outputs": [
        {
          "output_type": "execute_result",
          "data": {
            "text/plain": [
              "<Axes: >"
            ]
          },
          "metadata": {},
          "execution_count": 25
        },
        {
          "output_type": "display_data",
          "data": {
            "text/plain": [
              "<Figure size 640x480 with 2 Axes>"
            ],
            "image/png": "[encoded data removed]"
          },
          "metadata": {}
        }
      ]
    },
    {
      "cell_type": "code",
      "source": [
        "print(f'test acc = {round(acc.item()*100, 2)}%')"
      ],
      "metadata": {
        "colab": {
          "base_uri": "https://localhost:8080/"
        },
        "id": "oxcsNoQOLxWB",
        "outputId": "9bda7717-102f-40ea-ff0a-7f1b316fb81c"
      },
      "execution_count": null,
      "outputs": [
        {
          "output_type": "stream",
          "name": "stdout",
          "text": [
            "test acc = 95.31%\n"
          ]
        }
      ]
    },
    {
      "cell_type": "markdown",
      "source": [
        "## Linear model"
      ],
      "metadata": {
        "id": "zNQxOVhXQXhy"
      }
    },
    {
      "cell_type": "code",
      "source": [
        "dataset = Dataset()\n",
        "BATCH_SIZE = 100\n",
        "INIT_LR = 1e-3\n",
        "EPOCH = 150\n",
        "device = \"cuda\" if torch.cuda.is_available() else \"cpu\"\n",
        "torch.cuda.empty_cache() if device == 'cuda' else None\n",
        "min_delta = 5e-3\n",
        "tolerance = 10"
      ],
      "metadata": {
        "id": "1-Hnr6kTi6hb"
      },
      "execution_count": null,
      "outputs": []
    },
    {
      "cell_type": "code",
      "source": [
        "trainSize = int(0.8*len(dataset))\n",
        "valSize = int(0.1*len(dataset))\n",
        "testSize = len(dataset) - trainSize - valSize\n",
        "train_dataset, val_dataset, test_dataset = torch.utils.data.random_split(dataset, [trainSize, valSize, testSize])"
      ],
      "metadata": {
        "id": "RSUDkfb8ZYUv"
      },
      "execution_count": null,
      "outputs": []
    },
    {
      "cell_type": "code",
      "source": [
        "trainLoader = torch.utils.data.DataLoader(train_dataset, batch_size=BATCH_SIZE, shuffle=True, pin_memory=True, num_workers = 0)\n",
        "valLoader = torch.utils.data.DataLoader(val_dataset, batch_size=BATCH_SIZE, shuffle=True, pin_memory=True, num_workers = 0)\n",
        "testLoader = torch.utils.data.DataLoader(test_dataset, batch_size=BATCH_SIZE, shuffle=False, pin_memory=True, num_workers = 0)"
      ],
      "metadata": {
        "id": "Qe1aD8N1ZZlO"
      },
      "execution_count": null,
      "outputs": []
    },
    {
      "cell_type": "code",
      "source": [
        "num_features, num_classes = dataset.num_features, dataset.num_classes"
      ],
      "metadata": {
        "id": "8ta2dX6J2-Rq"
      },
      "execution_count": null,
      "outputs": []
    },
    {
      "cell_type": "code",
      "source": [
        "model = LinearModel(num_features, num_classes).to(device)\n",
        "print(f'кол-во параметров в модели = {sum(p.numel() for p in model.parameters() if p.requires_grad)}')"
      ],
      "metadata": {
        "colab": {
          "base_uri": "https://localhost:8080/"
        },
        "id": "IyR_JgqzZdQ4",
        "outputId": "4af0a709-dac2-4bed-d975-fc6a45566431"
      },
      "execution_count": null,
      "outputs": [
        {
          "output_type": "stream",
          "name": "stdout",
          "text": [
            "кол-во параметров в модели = 369408\n"
          ]
        }
      ]
    },
    {
      "cell_type": "code",
      "source": [
        "criterion = torch.nn.CrossEntropyLoss()\n",
        "optimizer = torch.optim.Adam(\n",
        "    model.parameters(),\n",
        "    lr=INIT_LR,\n",
        ")\n",
        "early_stopping = EarlyStopping(min_delta=min_delta, tolerance=tolerance)"
      ],
      "metadata": {
        "id": "rScG1pP93FVp"
      },
      "execution_count": null,
      "outputs": []
    },
    {
      "cell_type": "code",
      "source": [
        "train_loss = []\n",
        "val_loss = []\n",
        "for epoch in range(EPOCH):\n",
        "    print(f'epoch = {epoch}, ', end=\"\")\n",
        "    epoch_train_loss = train_one_epoch(model, trainLoader, criterion, optimizer, device)\n",
        "    train_loss.append(epoch_train_loss)\n",
        "\n",
        "    with torch.no_grad():\n",
        "        epoch_val_loss = val_one_epoch(model, valLoader, criterion, device)\n",
        "        val_loss.append(epoch_val_loss)\n",
        "\n",
        "    early_stopping(epoch_val_loss)\n",
        "    if early_stopping.flag:\n",
        "        print(f'early stop at epoch №{epoch}')\n",
        "        break\n",
        "torch.cuda.empty_cache() if device == 'cuda' else None"
      ],
      "metadata": {
        "colab": {
          "base_uri": "https://localhost:8080/"
        },
        "id": "G-X9kmfg2gFF",
        "outputId": "13596c3d-26c2-4a8e-b596-99508021e88a"
      },
      "execution_count": null,
      "outputs": [
        {
          "output_type": "stream",
          "name": "stdout",
          "text": [
            "epoch = 0, epoch = 1, epoch = 2, epoch = 3, epoch = 4, epoch = 5, epoch = 6, \n",
            "counter = 1\n",
            "epoch = 7, epoch = 8, \n",
            "counter = 2\n",
            "epoch = 9, \n",
            "counter = 3\n",
            "epoch = 10, epoch = 11, \n",
            "counter = 4\n",
            "epoch = 12, \n",
            "counter = 5\n",
            "epoch = 13, \n",
            "counter = 6\n",
            "epoch = 14, \n",
            "counter = 7\n",
            "epoch = 15, \n",
            "counter = 8\n",
            "epoch = 16, \n",
            "counter = 9\n",
            "epoch = 17, \n",
            "counter = 10\n",
            "early stop at epoch №17\n"
          ]
        }
      ]
    },
    {
      "cell_type": "code",
      "source": [
        "df = pd.DataFrame({'val_loss': [np.mean(x) for x in val_loss], 'train_loss': [np.mean(x) for x in train_loss]})\n",
        "df.plot(kind='line')"
      ],
      "metadata": {
        "colab": {
          "base_uri": "https://localhost:8080/",
          "height": 447
        },
        "id": "w_vI4BUsZ_Na",
        "outputId": "df73af54-156a-4b59-949b-3a13c4f1aad3"
      },
      "execution_count": null,
      "outputs": [
        {
          "output_type": "execute_result",
          "data": {
            "text/plain": [
              "<Axes: >"
            ]
          },
          "metadata": {},
          "execution_count": 34
        },
        {
          "output_type": "display_data",
          "data": {
            "text/plain": [
              "<Figure size 640x480 with 1 Axes>"
            ],
            "image/png": "[encoded data removed]"
          },
          "metadata": {}
        }
      ]
    },
    {
      "cell_type": "code",
      "source": [
        "with torch.no_grad():\n",
        "    test_data = test_model(model, testLoader, device, [i for i in range(dataset.num_classes)])\n",
        "torch.cuda.empty_cache() if device == 'cuda' else None"
      ],
      "metadata": {
        "id": "BvOTlRMFaAlC"
      },
      "execution_count": null,
      "outputs": []
    },
    {
      "cell_type": "code",
      "source": [
        "overall_accuracy = test_data[1].item()/test_data[2]\n",
        "print(f'overall acc = {round(overall_accuracy*100,2)}%')"
      ],
      "metadata": {
        "colab": {
          "base_uri": "https://localhost:8080/"
        },
        "id": "W2a50eKSaHf-",
        "outputId": "b8ca1e03-f87a-4ed1-84d5-2fbbedb4b310"
      },
      "execution_count": null,
      "outputs": [
        {
          "output_type": "stream",
          "name": "stdout",
          "text": [
            "overall acc = 79.22%\n"
          ]
        }
      ]
    },
    {
      "cell_type": "code",
      "source": [
        "from seaborn import heatmap\n",
        "heatmap(test_data[0])"
      ],
      "metadata": {
        "colab": {
          "base_uri": "https://localhost:8080/",
          "height": 447
        },
        "id": "8RoUH2-DaIhl",
        "outputId": "97b23fe5-506b-4d9e-ac33-55ee947ad34c"
      },
      "execution_count": null,
      "outputs": [
        {
          "output_type": "execute_result",
          "data": {
            "text/plain": [
              "<Axes: >"
            ]
          },
          "metadata": {},
          "execution_count": 37
        },
        {
          "output_type": "display_data",
          "data": {
            "text/plain": [
              "<Figure size 640x480 with 2 Axes>"
            ],
            "image/png": "[encoded data removed]"
          },
          "metadata": {}
        }
      ]
    }
  ],
  "metadata": {
    "colab": {
      "provenance": [],
      "collapsed_sections": [
        "mX6BwpGQvUyl",
        "xI23bvjUvRBA",
        "XlHvuqJ9vLu4",
        "hQWhw5F16J9G"
      ]
    },
    "kernelspec": {
      "display_name": "Python 3",
      "name": "python3"
    },
    "language_info": {
      "codemirror_mode": {
        "name": "ipython",
        "version": 3
      },
      "file_extension": ".py",
      "mimetype": "text/x-python",
      "name": "python",
      "nbconvert_exporter": "python",
      "pygments_lexer": "ipython3",
      "version": "3.9.1"
    },
    "vscode": {
      "interpreter": {
        "hash": "f7d5390928ceca9e16542a6b449c67162a3ecd0d2a0e4ea61f2fe48adbab648d"
      }
    }
  },
  "nbformat": 4,
  "nbformat_minor": 0
}